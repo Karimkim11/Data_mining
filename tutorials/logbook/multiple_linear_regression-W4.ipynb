{
 "cells": [
  {
   "cell_type": "code",
   "execution_count": null,
   "metadata": {
    "id": "8XBX4Js-iLcT"
   },
   "outputs": [],
   "source": [
    "from google.colab import files\n",
    "uploaded = files.upload()"
   ]
  },
  {
   "cell_type": "markdown",
   "metadata": {
    "id": "mzSjupC-rlzm"
   },
   "source": [
    "# Objective of the task is to predict the Profit of the state based on the other factors."
   ]
  },
  {
   "cell_type": "code",
   "execution_count": 1,
   "metadata": {
    "id": "UJgt7Pe4hBL9"
   },
   "outputs": [],
   "source": [
    "# Your code to import numpy\n",
    "# Your code to import panda\n",
    "# Your code to import matplotlib\n",
    "import pandas as pd \n",
    "import numpy as np\n",
    "import matplotlib.pyplot as plt"
   ]
  },
  {
   "cell_type": "code",
   "execution_count": 3,
   "metadata": {
    "id": "-PDHsuSxicT-"
   },
   "outputs": [],
   "source": [
    "# Your code to read file\n",
    "# Your code to print sample data\n",
    "dataset = pd.read_csv(r'e:\\w4\\50_Startups.csv')"
   ]
  },
  {
   "cell_type": "markdown",
   "metadata": {
    "id": "27F819fqr0MK"
   },
   "source": [
    "# Separate the independednt and Dependent variables.\n",
    "# Profit is the dependedent variable\n",
    "\n",
    "## What is the role of the axis and inplace in following code?"
   ]
  },
  {
   "cell_type": "code",
   "execution_count": 4,
   "metadata": {
    "id": "LUXxD-gViltR"
   },
   "outputs": [],
   "source": [
    "y = np.asarray(dataset['Profit'].values.tolist())\n",
    "\n",
    "dataset.drop([\"Profit\"], axis = 1, inplace = True)"
   ]
  },
  {
   "cell_type": "markdown",
   "metadata": {
    "id": "W8d-0FfnsN0O"
   },
   "source": [
    "# We will convert  Categorical Variable values \"State\" to numbers with the One Hot Encoding Technique\n",
    "\n",
    "# Initially, we will counts value that the feature \"State\" can take.\n",
    "\n",
    "# Remember .value_counts() function"
   ]
  },
  {
   "cell_type": "code",
   "execution_count": 5,
   "metadata": {
    "id": "M3CB3Ct9i4an"
   },
   "outputs": [
    {
     "data": {
      "text/plain": [
       "New York      17\n",
       "California    17\n",
       "Florida       16\n",
       "Name: State, dtype: int64"
      ]
     },
     "execution_count": 5,
     "metadata": {},
     "output_type": "execute_result"
    }
   ],
   "source": [
    "dataset.iloc[:,3].value_counts()"
   ]
  },
  {
   "cell_type": "markdown",
   "metadata": {
    "id": "_WSSeKczss1U"
   },
   "source": [
    "# Replacing the three states by the numbers 1, 2, 3.\n",
    "# This is also called as the LabelEncoding"
   ]
  },
  {
   "cell_type": "code",
   "execution_count": 6,
   "metadata": {
    "id": "RonZ0XJVi7VO"
   },
   "outputs": [
    {
     "data": {
      "text/html": [
       "<div>\n",
       "<style scoped>\n",
       "    .dataframe tbody tr th:only-of-type {\n",
       "        vertical-align: middle;\n",
       "    }\n",
       "\n",
       "    .dataframe tbody tr th {\n",
       "        vertical-align: top;\n",
       "    }\n",
       "\n",
       "    .dataframe thead th {\n",
       "        text-align: right;\n",
       "    }\n",
       "</style>\n",
       "<table border=\"1\" class=\"dataframe\">\n",
       "  <thead>\n",
       "    <tr style=\"text-align: right;\">\n",
       "      <th></th>\n",
       "      <th>R&amp;D Spend</th>\n",
       "      <th>Administration</th>\n",
       "      <th>Marketing Spend</th>\n",
       "      <th>State</th>\n",
       "    </tr>\n",
       "  </thead>\n",
       "  <tbody>\n",
       "    <tr>\n",
       "      <th>0</th>\n",
       "      <td>165349.20</td>\n",
       "      <td>136897.80</td>\n",
       "      <td>471784.10</td>\n",
       "      <td>2</td>\n",
       "    </tr>\n",
       "    <tr>\n",
       "      <th>1</th>\n",
       "      <td>162597.70</td>\n",
       "      <td>151377.59</td>\n",
       "      <td>443898.53</td>\n",
       "      <td>1</td>\n",
       "    </tr>\n",
       "    <tr>\n",
       "      <th>2</th>\n",
       "      <td>153441.51</td>\n",
       "      <td>101145.55</td>\n",
       "      <td>407934.54</td>\n",
       "      <td>3</td>\n",
       "    </tr>\n",
       "    <tr>\n",
       "      <th>3</th>\n",
       "      <td>144372.41</td>\n",
       "      <td>118671.85</td>\n",
       "      <td>383199.62</td>\n",
       "      <td>2</td>\n",
       "    </tr>\n",
       "    <tr>\n",
       "      <th>4</th>\n",
       "      <td>142107.34</td>\n",
       "      <td>91391.77</td>\n",
       "      <td>366168.42</td>\n",
       "      <td>3</td>\n",
       "    </tr>\n",
       "    <tr>\n",
       "      <th>5</th>\n",
       "      <td>131876.90</td>\n",
       "      <td>99814.71</td>\n",
       "      <td>362861.36</td>\n",
       "      <td>2</td>\n",
       "    </tr>\n",
       "    <tr>\n",
       "      <th>6</th>\n",
       "      <td>134615.46</td>\n",
       "      <td>147198.87</td>\n",
       "      <td>127716.82</td>\n",
       "      <td>1</td>\n",
       "    </tr>\n",
       "    <tr>\n",
       "      <th>7</th>\n",
       "      <td>130298.13</td>\n",
       "      <td>145530.06</td>\n",
       "      <td>323876.68</td>\n",
       "      <td>3</td>\n",
       "    </tr>\n",
       "    <tr>\n",
       "      <th>8</th>\n",
       "      <td>120542.52</td>\n",
       "      <td>148718.95</td>\n",
       "      <td>311613.29</td>\n",
       "      <td>2</td>\n",
       "    </tr>\n",
       "    <tr>\n",
       "      <th>9</th>\n",
       "      <td>123334.88</td>\n",
       "      <td>108679.17</td>\n",
       "      <td>304981.62</td>\n",
       "      <td>1</td>\n",
       "    </tr>\n",
       "    <tr>\n",
       "      <th>10</th>\n",
       "      <td>101913.08</td>\n",
       "      <td>110594.11</td>\n",
       "      <td>229160.95</td>\n",
       "      <td>3</td>\n",
       "    </tr>\n",
       "    <tr>\n",
       "      <th>11</th>\n",
       "      <td>100671.96</td>\n",
       "      <td>91790.61</td>\n",
       "      <td>249744.55</td>\n",
       "      <td>1</td>\n",
       "    </tr>\n",
       "    <tr>\n",
       "      <th>12</th>\n",
       "      <td>93863.75</td>\n",
       "      <td>127320.38</td>\n",
       "      <td>249839.44</td>\n",
       "      <td>3</td>\n",
       "    </tr>\n",
       "    <tr>\n",
       "      <th>13</th>\n",
       "      <td>91992.39</td>\n",
       "      <td>135495.07</td>\n",
       "      <td>252664.93</td>\n",
       "      <td>1</td>\n",
       "    </tr>\n",
       "    <tr>\n",
       "      <th>14</th>\n",
       "      <td>119943.24</td>\n",
       "      <td>156547.42</td>\n",
       "      <td>256512.92</td>\n",
       "      <td>3</td>\n",
       "    </tr>\n",
       "    <tr>\n",
       "      <th>15</th>\n",
       "      <td>114523.61</td>\n",
       "      <td>122616.84</td>\n",
       "      <td>261776.23</td>\n",
       "      <td>2</td>\n",
       "    </tr>\n",
       "    <tr>\n",
       "      <th>16</th>\n",
       "      <td>78013.11</td>\n",
       "      <td>121597.55</td>\n",
       "      <td>264346.06</td>\n",
       "      <td>1</td>\n",
       "    </tr>\n",
       "    <tr>\n",
       "      <th>17</th>\n",
       "      <td>94657.16</td>\n",
       "      <td>145077.58</td>\n",
       "      <td>282574.31</td>\n",
       "      <td>2</td>\n",
       "    </tr>\n",
       "    <tr>\n",
       "      <th>18</th>\n",
       "      <td>91749.16</td>\n",
       "      <td>114175.79</td>\n",
       "      <td>294919.57</td>\n",
       "      <td>3</td>\n",
       "    </tr>\n",
       "    <tr>\n",
       "      <th>19</th>\n",
       "      <td>86419.70</td>\n",
       "      <td>153514.11</td>\n",
       "      <td>0.00</td>\n",
       "      <td>2</td>\n",
       "    </tr>\n",
       "    <tr>\n",
       "      <th>20</th>\n",
       "      <td>76253.86</td>\n",
       "      <td>113867.30</td>\n",
       "      <td>298664.47</td>\n",
       "      <td>1</td>\n",
       "    </tr>\n",
       "    <tr>\n",
       "      <th>21</th>\n",
       "      <td>78389.47</td>\n",
       "      <td>153773.43</td>\n",
       "      <td>299737.29</td>\n",
       "      <td>2</td>\n",
       "    </tr>\n",
       "    <tr>\n",
       "      <th>22</th>\n",
       "      <td>73994.56</td>\n",
       "      <td>122782.75</td>\n",
       "      <td>303319.26</td>\n",
       "      <td>3</td>\n",
       "    </tr>\n",
       "    <tr>\n",
       "      <th>23</th>\n",
       "      <td>67532.53</td>\n",
       "      <td>105751.03</td>\n",
       "      <td>304768.73</td>\n",
       "      <td>3</td>\n",
       "    </tr>\n",
       "    <tr>\n",
       "      <th>24</th>\n",
       "      <td>77044.01</td>\n",
       "      <td>99281.34</td>\n",
       "      <td>140574.81</td>\n",
       "      <td>2</td>\n",
       "    </tr>\n",
       "    <tr>\n",
       "      <th>25</th>\n",
       "      <td>64664.71</td>\n",
       "      <td>139553.16</td>\n",
       "      <td>137962.62</td>\n",
       "      <td>1</td>\n",
       "    </tr>\n",
       "    <tr>\n",
       "      <th>26</th>\n",
       "      <td>75328.87</td>\n",
       "      <td>144135.98</td>\n",
       "      <td>134050.07</td>\n",
       "      <td>3</td>\n",
       "    </tr>\n",
       "    <tr>\n",
       "      <th>27</th>\n",
       "      <td>72107.60</td>\n",
       "      <td>127864.55</td>\n",
       "      <td>353183.81</td>\n",
       "      <td>2</td>\n",
       "    </tr>\n",
       "    <tr>\n",
       "      <th>28</th>\n",
       "      <td>66051.52</td>\n",
       "      <td>182645.56</td>\n",
       "      <td>118148.20</td>\n",
       "      <td>3</td>\n",
       "    </tr>\n",
       "    <tr>\n",
       "      <th>29</th>\n",
       "      <td>65605.48</td>\n",
       "      <td>153032.06</td>\n",
       "      <td>107138.38</td>\n",
       "      <td>2</td>\n",
       "    </tr>\n",
       "    <tr>\n",
       "      <th>30</th>\n",
       "      <td>61994.48</td>\n",
       "      <td>115641.28</td>\n",
       "      <td>91131.24</td>\n",
       "      <td>3</td>\n",
       "    </tr>\n",
       "    <tr>\n",
       "      <th>31</th>\n",
       "      <td>61136.38</td>\n",
       "      <td>152701.92</td>\n",
       "      <td>88218.23</td>\n",
       "      <td>2</td>\n",
       "    </tr>\n",
       "    <tr>\n",
       "      <th>32</th>\n",
       "      <td>63408.86</td>\n",
       "      <td>129219.61</td>\n",
       "      <td>46085.25</td>\n",
       "      <td>1</td>\n",
       "    </tr>\n",
       "    <tr>\n",
       "      <th>33</th>\n",
       "      <td>55493.95</td>\n",
       "      <td>103057.49</td>\n",
       "      <td>214634.81</td>\n",
       "      <td>3</td>\n",
       "    </tr>\n",
       "    <tr>\n",
       "      <th>34</th>\n",
       "      <td>46426.07</td>\n",
       "      <td>157693.92</td>\n",
       "      <td>210797.67</td>\n",
       "      <td>1</td>\n",
       "    </tr>\n",
       "    <tr>\n",
       "      <th>35</th>\n",
       "      <td>46014.02</td>\n",
       "      <td>85047.44</td>\n",
       "      <td>205517.64</td>\n",
       "      <td>2</td>\n",
       "    </tr>\n",
       "    <tr>\n",
       "      <th>36</th>\n",
       "      <td>28663.76</td>\n",
       "      <td>127056.21</td>\n",
       "      <td>201126.82</td>\n",
       "      <td>3</td>\n",
       "    </tr>\n",
       "    <tr>\n",
       "      <th>37</th>\n",
       "      <td>44069.95</td>\n",
       "      <td>51283.14</td>\n",
       "      <td>197029.42</td>\n",
       "      <td>1</td>\n",
       "    </tr>\n",
       "    <tr>\n",
       "      <th>38</th>\n",
       "      <td>20229.59</td>\n",
       "      <td>65947.93</td>\n",
       "      <td>185265.10</td>\n",
       "      <td>2</td>\n",
       "    </tr>\n",
       "    <tr>\n",
       "      <th>39</th>\n",
       "      <td>38558.51</td>\n",
       "      <td>82982.09</td>\n",
       "      <td>174999.30</td>\n",
       "      <td>1</td>\n",
       "    </tr>\n",
       "    <tr>\n",
       "      <th>40</th>\n",
       "      <td>28754.33</td>\n",
       "      <td>118546.05</td>\n",
       "      <td>172795.67</td>\n",
       "      <td>1</td>\n",
       "    </tr>\n",
       "    <tr>\n",
       "      <th>41</th>\n",
       "      <td>27892.92</td>\n",
       "      <td>84710.77</td>\n",
       "      <td>164470.71</td>\n",
       "      <td>3</td>\n",
       "    </tr>\n",
       "    <tr>\n",
       "      <th>42</th>\n",
       "      <td>23640.93</td>\n",
       "      <td>96189.63</td>\n",
       "      <td>148001.11</td>\n",
       "      <td>1</td>\n",
       "    </tr>\n",
       "    <tr>\n",
       "      <th>43</th>\n",
       "      <td>15505.73</td>\n",
       "      <td>127382.30</td>\n",
       "      <td>35534.17</td>\n",
       "      <td>2</td>\n",
       "    </tr>\n",
       "    <tr>\n",
       "      <th>44</th>\n",
       "      <td>22177.74</td>\n",
       "      <td>154806.14</td>\n",
       "      <td>28334.72</td>\n",
       "      <td>1</td>\n",
       "    </tr>\n",
       "    <tr>\n",
       "      <th>45</th>\n",
       "      <td>1000.23</td>\n",
       "      <td>124153.04</td>\n",
       "      <td>1903.93</td>\n",
       "      <td>2</td>\n",
       "    </tr>\n",
       "    <tr>\n",
       "      <th>46</th>\n",
       "      <td>1315.46</td>\n",
       "      <td>115816.21</td>\n",
       "      <td>297114.46</td>\n",
       "      <td>3</td>\n",
       "    </tr>\n",
       "    <tr>\n",
       "      <th>47</th>\n",
       "      <td>0.00</td>\n",
       "      <td>135426.92</td>\n",
       "      <td>0.00</td>\n",
       "      <td>1</td>\n",
       "    </tr>\n",
       "    <tr>\n",
       "      <th>48</th>\n",
       "      <td>542.05</td>\n",
       "      <td>51743.15</td>\n",
       "      <td>0.00</td>\n",
       "      <td>2</td>\n",
       "    </tr>\n",
       "    <tr>\n",
       "      <th>49</th>\n",
       "      <td>0.00</td>\n",
       "      <td>116983.80</td>\n",
       "      <td>45173.06</td>\n",
       "      <td>1</td>\n",
       "    </tr>\n",
       "  </tbody>\n",
       "</table>\n",
       "</div>"
      ],
      "text/plain": [
       "    R&D Spend  Administration  Marketing Spend  State\n",
       "0   165349.20       136897.80        471784.10      2\n",
       "1   162597.70       151377.59        443898.53      1\n",
       "2   153441.51       101145.55        407934.54      3\n",
       "3   144372.41       118671.85        383199.62      2\n",
       "4   142107.34        91391.77        366168.42      3\n",
       "5   131876.90        99814.71        362861.36      2\n",
       "6   134615.46       147198.87        127716.82      1\n",
       "7   130298.13       145530.06        323876.68      3\n",
       "8   120542.52       148718.95        311613.29      2\n",
       "9   123334.88       108679.17        304981.62      1\n",
       "10  101913.08       110594.11        229160.95      3\n",
       "11  100671.96        91790.61        249744.55      1\n",
       "12   93863.75       127320.38        249839.44      3\n",
       "13   91992.39       135495.07        252664.93      1\n",
       "14  119943.24       156547.42        256512.92      3\n",
       "15  114523.61       122616.84        261776.23      2\n",
       "16   78013.11       121597.55        264346.06      1\n",
       "17   94657.16       145077.58        282574.31      2\n",
       "18   91749.16       114175.79        294919.57      3\n",
       "19   86419.70       153514.11             0.00      2\n",
       "20   76253.86       113867.30        298664.47      1\n",
       "21   78389.47       153773.43        299737.29      2\n",
       "22   73994.56       122782.75        303319.26      3\n",
       "23   67532.53       105751.03        304768.73      3\n",
       "24   77044.01        99281.34        140574.81      2\n",
       "25   64664.71       139553.16        137962.62      1\n",
       "26   75328.87       144135.98        134050.07      3\n",
       "27   72107.60       127864.55        353183.81      2\n",
       "28   66051.52       182645.56        118148.20      3\n",
       "29   65605.48       153032.06        107138.38      2\n",
       "30   61994.48       115641.28         91131.24      3\n",
       "31   61136.38       152701.92         88218.23      2\n",
       "32   63408.86       129219.61         46085.25      1\n",
       "33   55493.95       103057.49        214634.81      3\n",
       "34   46426.07       157693.92        210797.67      1\n",
       "35   46014.02        85047.44        205517.64      2\n",
       "36   28663.76       127056.21        201126.82      3\n",
       "37   44069.95        51283.14        197029.42      1\n",
       "38   20229.59        65947.93        185265.10      2\n",
       "39   38558.51        82982.09        174999.30      1\n",
       "40   28754.33       118546.05        172795.67      1\n",
       "41   27892.92        84710.77        164470.71      3\n",
       "42   23640.93        96189.63        148001.11      1\n",
       "43   15505.73       127382.30         35534.17      2\n",
       "44   22177.74       154806.14         28334.72      1\n",
       "45    1000.23       124153.04          1903.93      2\n",
       "46    1315.46       115816.21        297114.46      3\n",
       "47       0.00       135426.92             0.00      1\n",
       "48     542.05        51743.15             0.00      2\n",
       "49       0.00       116983.80         45173.06      1"
      ]
     },
     "execution_count": 6,
     "metadata": {},
     "output_type": "execute_result"
    }
   ],
   "source": [
    "dataset.replace(to_replace=[\"California\",\"New York\", \"Florida\"], value=[1,2,3])"
   ]
  },
  {
   "cell_type": "markdown",
   "metadata": {
    "id": "kQungUWgtBIL"
   },
   "source": [
    "# We will create 3 more columns for the three states."
   ]
  },
  {
   "cell_type": "code",
   "execution_count": 7,
   "metadata": {
    "id": "sEz2FMUfi9gK"
   },
   "outputs": [],
   "source": [
    "dataset[\"California\"] = dataset.iloc[:, 3]\n",
    "dataset[\"New York\"] = dataset.iloc[:,3]\n",
    "dataset[\"Florida\"] = dataset.iloc[:,3]"
   ]
  },
  {
   "cell_type": "markdown",
   "metadata": {
    "id": "unUvog8WtNpu"
   },
   "source": [
    "# Check how the dataset looks now"
   ]
  },
  {
   "cell_type": "code",
   "execution_count": 8,
   "metadata": {
    "id": "98teOtjzjIp2"
   },
   "outputs": [
    {
     "data": {
      "text/html": [
       "<div>\n",
       "<style scoped>\n",
       "    .dataframe tbody tr th:only-of-type {\n",
       "        vertical-align: middle;\n",
       "    }\n",
       "\n",
       "    .dataframe tbody tr th {\n",
       "        vertical-align: top;\n",
       "    }\n",
       "\n",
       "    .dataframe thead th {\n",
       "        text-align: right;\n",
       "    }\n",
       "</style>\n",
       "<table border=\"1\" class=\"dataframe\">\n",
       "  <thead>\n",
       "    <tr style=\"text-align: right;\">\n",
       "      <th></th>\n",
       "      <th>R&amp;D Spend</th>\n",
       "      <th>Administration</th>\n",
       "      <th>Marketing Spend</th>\n",
       "      <th>State</th>\n",
       "      <th>California</th>\n",
       "      <th>New York</th>\n",
       "      <th>Florida</th>\n",
       "    </tr>\n",
       "  </thead>\n",
       "  <tbody>\n",
       "    <tr>\n",
       "      <th>0</th>\n",
       "      <td>165349.20</td>\n",
       "      <td>136897.80</td>\n",
       "      <td>471784.10</td>\n",
       "      <td>New York</td>\n",
       "      <td>New York</td>\n",
       "      <td>New York</td>\n",
       "      <td>New York</td>\n",
       "    </tr>\n",
       "    <tr>\n",
       "      <th>1</th>\n",
       "      <td>162597.70</td>\n",
       "      <td>151377.59</td>\n",
       "      <td>443898.53</td>\n",
       "      <td>California</td>\n",
       "      <td>California</td>\n",
       "      <td>California</td>\n",
       "      <td>California</td>\n",
       "    </tr>\n",
       "    <tr>\n",
       "      <th>2</th>\n",
       "      <td>153441.51</td>\n",
       "      <td>101145.55</td>\n",
       "      <td>407934.54</td>\n",
       "      <td>Florida</td>\n",
       "      <td>Florida</td>\n",
       "      <td>Florida</td>\n",
       "      <td>Florida</td>\n",
       "    </tr>\n",
       "    <tr>\n",
       "      <th>3</th>\n",
       "      <td>144372.41</td>\n",
       "      <td>118671.85</td>\n",
       "      <td>383199.62</td>\n",
       "      <td>New York</td>\n",
       "      <td>New York</td>\n",
       "      <td>New York</td>\n",
       "      <td>New York</td>\n",
       "    </tr>\n",
       "    <tr>\n",
       "      <th>4</th>\n",
       "      <td>142107.34</td>\n",
       "      <td>91391.77</td>\n",
       "      <td>366168.42</td>\n",
       "      <td>Florida</td>\n",
       "      <td>Florida</td>\n",
       "      <td>Florida</td>\n",
       "      <td>Florida</td>\n",
       "    </tr>\n",
       "    <tr>\n",
       "      <th>5</th>\n",
       "      <td>131876.90</td>\n",
       "      <td>99814.71</td>\n",
       "      <td>362861.36</td>\n",
       "      <td>New York</td>\n",
       "      <td>New York</td>\n",
       "      <td>New York</td>\n",
       "      <td>New York</td>\n",
       "    </tr>\n",
       "    <tr>\n",
       "      <th>6</th>\n",
       "      <td>134615.46</td>\n",
       "      <td>147198.87</td>\n",
       "      <td>127716.82</td>\n",
       "      <td>California</td>\n",
       "      <td>California</td>\n",
       "      <td>California</td>\n",
       "      <td>California</td>\n",
       "    </tr>\n",
       "    <tr>\n",
       "      <th>7</th>\n",
       "      <td>130298.13</td>\n",
       "      <td>145530.06</td>\n",
       "      <td>323876.68</td>\n",
       "      <td>Florida</td>\n",
       "      <td>Florida</td>\n",
       "      <td>Florida</td>\n",
       "      <td>Florida</td>\n",
       "    </tr>\n",
       "    <tr>\n",
       "      <th>8</th>\n",
       "      <td>120542.52</td>\n",
       "      <td>148718.95</td>\n",
       "      <td>311613.29</td>\n",
       "      <td>New York</td>\n",
       "      <td>New York</td>\n",
       "      <td>New York</td>\n",
       "      <td>New York</td>\n",
       "    </tr>\n",
       "    <tr>\n",
       "      <th>9</th>\n",
       "      <td>123334.88</td>\n",
       "      <td>108679.17</td>\n",
       "      <td>304981.62</td>\n",
       "      <td>California</td>\n",
       "      <td>California</td>\n",
       "      <td>California</td>\n",
       "      <td>California</td>\n",
       "    </tr>\n",
       "  </tbody>\n",
       "</table>\n",
       "</div>"
      ],
      "text/plain": [
       "   R&D Spend  Administration  Marketing Spend       State  California  \\\n",
       "0  165349.20       136897.80        471784.10    New York    New York   \n",
       "1  162597.70       151377.59        443898.53  California  California   \n",
       "2  153441.51       101145.55        407934.54     Florida     Florida   \n",
       "3  144372.41       118671.85        383199.62    New York    New York   \n",
       "4  142107.34        91391.77        366168.42     Florida     Florida   \n",
       "5  131876.90        99814.71        362861.36    New York    New York   \n",
       "6  134615.46       147198.87        127716.82  California  California   \n",
       "7  130298.13       145530.06        323876.68     Florida     Florida   \n",
       "8  120542.52       148718.95        311613.29    New York    New York   \n",
       "9  123334.88       108679.17        304981.62  California  California   \n",
       "\n",
       "     New York     Florida  \n",
       "0    New York    New York  \n",
       "1  California  California  \n",
       "2     Florida     Florida  \n",
       "3    New York    New York  \n",
       "4     Florida     Florida  \n",
       "5    New York    New York  \n",
       "6  California  California  \n",
       "7     Florida     Florida  \n",
       "8    New York    New York  \n",
       "9  California  California  "
      ]
     },
     "execution_count": 8,
     "metadata": {},
     "output_type": "execute_result"
    }
   ],
   "source": [
    "# Your code to print few samples of dataset.\n",
    "dataset.head(10)"
   ]
  },
  {
   "cell_type": "markdown",
   "metadata": {
    "id": "OoLuUTSBtVZj"
   },
   "source": [
    "# Performing one hot encoding for the column Calfornia.\n",
    "## Replace text 'California' with 1 and others with 0 for this column."
   ]
  },
  {
   "cell_type": "code",
   "execution_count": 9,
   "metadata": {
    "id": "ZABX9aatjLdw"
   },
   "outputs": [],
   "source": [
    "dataset.loc[dataset[\"California\"]!=\"California\", \"California\"] = 0\n",
    "dataset.loc[dataset[\"California\"]==\"California\", \"California\"] = 1"
   ]
  },
  {
   "cell_type": "markdown",
   "metadata": {
    "id": "Rrqbptyntrgw"
   },
   "source": [
    "# Perform the one hot encoding for New York and the Florida column"
   ]
  },
  {
   "cell_type": "code",
   "execution_count": 14,
   "metadata": {
    "id": "6zcJTPVxjPYk"
   },
   "outputs": [],
   "source": [
    "# Your code to perform one hot encoding for New York column.\n",
    "# Performing One Hot Encoding for the column \"California\"\n",
    "dataset.loc[dataset[\"California\"]!=\"California\", \"California\"] = 0\n",
    "dataset.loc[dataset[\"California\"]==\"California\", \"California\"] = 1"
   ]
  },
  {
   "cell_type": "code",
   "execution_count": 15,
   "metadata": {
    "id": "XnoCxjbejSmN"
   },
   "outputs": [],
   "source": [
    "# Performing One Hot Encoding for the column \"New York\"\n",
    "dataset.loc[dataset[\"New York\"]!=\"New York\", \"New York\"] = 0\n",
    "dataset.loc[dataset[\"New York\"]==\"New York\", \"New York\"] = 1"
   ]
  },
  {
   "cell_type": "code",
   "execution_count": 16,
   "metadata": {},
   "outputs": [],
   "source": [
    "# Performing One Hot Encoding for the column \"Florida\"\n",
    "dataset.loc[dataset.Florida!=\"Florida\", \"Florida\"] = 0\n",
    "dataset.loc[dataset.Florida==\"Florida\", \"Florida\"] = 1"
   ]
  },
  {
   "cell_type": "markdown",
   "metadata": {
    "id": "Of9U6eX4uGwj"
   },
   "source": [
    "# Now look at the dataset\n",
    "## Can you find the state name from numbers in last three columns only?"
   ]
  },
  {
   "cell_type": "code",
   "execution_count": null,
   "metadata": {
    "id": "4JUs_zpLjV_e"
   },
   "outputs": [],
   "source": [
    "# Your code to print sample\n",
    "\n",
    "dataset.head()\n"
   ]
  },
  {
   "cell_type": "markdown",
   "metadata": {
    "id": "8Dm80EXTuX8w"
   },
   "source": [
    "# Drop the State and one of the three states column.\n",
    "## Question - Why we are dropping one column for the state?"
   ]
  },
  {
   "cell_type": "code",
   "execution_count": null,
   "metadata": {
    "id": "hAFgpUrmjZbp"
   },
   "outputs": [],
   "source": [
    "# Your code to drop State and Florida column\n",
    "dataset.drop([\"State\", \"Florida\"], axis = 1, inplace = True)"
   ]
  },
  {
   "cell_type": "markdown",
   "metadata": {
    "id": "R4kE329ku90q"
   },
   "source": [
    "# Lets's check the dataset again.\n",
    "## Question - Can you guess the name of three states from the numbers (1/0) in last two column?"
   ]
  },
  {
   "cell_type": "code",
   "execution_count": null,
   "metadata": {
    "id": "9JtxL7LPj-Ze"
   },
   "outputs": [],
   "source": [
    "# Your code to print sample dataset.\n"
   ]
  },
  {
   "cell_type": "markdown",
   "metadata": {
    "id": "XIQepd2JvPmH"
   },
   "source": [
    "# Let's further process independent variables.\n",
    "\n"
   ]
  },
  {
   "cell_type": "code",
   "execution_count": 19,
   "metadata": {
    "id": "KuLd1d0ukA_E"
   },
   "outputs": [],
   "source": [
    "\n",
    "X = np.asarray(dataset.values.tolist()).astype(float)"
   ]
  },
  {
   "cell_type": "markdown",
   "metadata": {
    "id": "9jbjZBzrwPWM"
   },
   "source": [
    "# Print the shapes of the aray"
   ]
  },
  {
   "cell_type": "code",
   "execution_count": 20,
   "metadata": {
    "id": "NWMcIEalkHJp"
   },
   "outputs": [
    {
     "name": "stdout",
     "output_type": "stream",
     "text": [
      "The shape of the independent fatures are  (50, 5)\n",
      "The shape of the dependent fatures are  (50,)\n"
     ]
    }
   ],
   "source": [
    "# Your code to print the shape of X\n",
    "# Your code to print the shape of y\n",
    "print(\"The shape of the independent fatures are \",X.shape)\n",
    "print(\"The shape of the dependent fatures are \",y.shape)"
   ]
  },
  {
   "cell_type": "markdown",
   "metadata": {
    "id": "1mkuT1JvwXQS"
   },
   "source": [
    "# Change the shape of the dependent variable to (len(y), 1)"
   ]
  },
  {
   "cell_type": "code",
   "execution_count": 21,
   "metadata": {
    "id": "kkOIedKLkJsS"
   },
   "outputs": [],
   "source": [
    "# Your code to change the shape of the y to (len(y), 1)\n",
    "y = y.reshape(len(y),1)"
   ]
  },
  {
   "cell_type": "markdown",
   "metadata": {
    "id": "086Arswgwifr"
   },
   "source": [
    "# Perform feature scaling\n",
    "## We will study this in detail in class.\n",
    "## For now, guess what following code is doing"
   ]
  },
  {
   "cell_type": "code",
   "execution_count": 22,
   "metadata": {
    "id": "3xY_jX90kqWe"
   },
   "outputs": [],
   "source": [
    "\n",
    "for i in range(X.shape[1]-2):\n",
    "    X[:,i] = (X[:,i] - int(np.mean(X[:,i])))/np.std(X[:,i])"
   ]
  },
  {
   "cell_type": "code",
   "execution_count": 23,
   "metadata": {
    "id": "d5X_d-T-k2_f"
   },
   "outputs": [],
   "source": [
    "y = (y - int(np.mean(y)))/np.std(y)"
   ]
  },
  {
   "cell_type": "markdown",
   "metadata": {
    "id": "EDibPJ8Xw6qJ"
   },
   "source": [
    "### Adding the feature X0 = 1, so we have the equation: y =  theta[0] * X0 + theta[1] * X1\n"
   ]
  },
  {
   "cell_type": "code",
   "execution_count": 24,
   "metadata": {
    "id": "6IJwREnmk53K"
   },
   "outputs": [],
   "source": [
    "X = np.concatenate((X,np.ones((50,1))), axis = 1)"
   ]
  },
  {
   "cell_type": "markdown",
   "metadata": {
    "id": "0xeqVGkmxNqW"
   },
   "source": [
    "# Let's see X, y and their shapes"
   ]
  },
  {
   "cell_type": "code",
   "execution_count": 26,
   "metadata": {
    "id": "F72giE7Zk8Xc"
   },
   "outputs": [
    {
     "data": {
      "text/plain": [
       "array([[ 2.01642504e+00,  5.60775975e-01,  2.15394390e+00,\n",
       "         0.00000000e+00,  1.00000000e+00,  1.00000000e+00],\n",
       "       [ 1.95587388e+00,  1.08282964e+00,  1.92360120e+00,\n",
       "         0.00000000e+00,  0.00000000e+00,  1.00000000e+00],\n",
       "       [ 1.75437728e+00, -7.28233968e-01,  1.62652848e+00,\n",
       "         0.00000000e+00,  0.00000000e+00,  1.00000000e+00],\n",
       "       [ 1.55479724e+00, -9.63415706e-02,  1.42221104e+00,\n",
       "         0.00000000e+00,  1.00000000e+00,  1.00000000e+00],\n",
       "       [ 1.50495075e+00, -1.07989629e+00,  1.28152852e+00,\n",
       "         0.00000000e+00,  0.00000000e+00,  1.00000000e+00],\n",
       "       [ 1.27981356e+00, -7.76216010e-01,  1.25421127e+00,\n",
       "         0.00000000e+00,  1.00000000e+00,  1.00000000e+00],\n",
       "       [ 1.34007995e+00,  9.32170269e-01, -6.88149122e-01,\n",
       "         0.00000000e+00,  0.00000000e+00,  1.00000000e+00],\n",
       "       [ 1.24507020e+00,  8.72003071e-01,  9.32186786e-01,\n",
       "         0.00000000e+00,  0.00000000e+00,  1.00000000e+00],\n",
       "       [ 1.03038241e+00,  9.86975162e-01,  8.30887717e-01,\n",
       "         0.00000000e+00,  1.00000000e+00,  1.00000000e+00],\n",
       "       [ 1.09183275e+00, -4.56617186e-01,  7.76108248e-01,\n",
       "         0.00000000e+00,  0.00000000e+00,  1.00000000e+00],\n",
       "       [ 6.20411795e-01, -3.87576029e-01,  1.49808075e-01,\n",
       "         0.00000000e+00,  0.00000000e+00,  1.00000000e+00],\n",
       "       [ 5.93098965e-01, -1.06551653e+00,  3.19834431e-01,\n",
       "         0.00000000e+00,  0.00000000e+00,  1.00000000e+00],\n",
       "       [ 4.43273419e-01,  2.15472124e-01,  3.20618249e-01,\n",
       "         0.00000000e+00,  0.00000000e+00,  1.00000000e+00],\n",
       "       [ 4.02091150e-01,  5.10202013e-01,  3.43957596e-01,\n",
       "         0.00000000e+00,  0.00000000e+00,  1.00000000e+00],\n",
       "       [ 1.01719429e+00,  1.26922245e+00,  3.75743081e-01,\n",
       "         0.00000000e+00,  0.00000000e+00,  1.00000000e+00],\n",
       "       [ 8.97926670e-01,  4.58909136e-02,  4.19219510e-01,\n",
       "         0.00000000e+00,  1.00000000e+00,  1.00000000e+00],\n",
       "       [ 9.44547430e-02,  9.14147979e-03,  4.40447032e-01,\n",
       "         0.00000000e+00,  0.00000000e+00,  1.00000000e+00],\n",
       "       [ 4.60733675e-01,  8.55689379e-01,  5.91017531e-01,\n",
       "         0.00000000e+00,  1.00000000e+00,  1.00000000e+00],\n",
       "       [ 3.96738485e-01, -2.58442307e-01,  6.92992870e-01,\n",
       "         0.00000000e+00,  0.00000000e+00,  1.00000000e+00],\n",
       "       [ 2.79455197e-01,  1.15985963e+00, -1.74312617e+00,\n",
       "         0.00000000e+00,  1.00000000e+00,  1.00000000e+00],\n",
       "       [ 5.57396340e-02, -2.69564591e-01,  7.23926803e-01,\n",
       "         0.00000000e+00,  0.00000000e+00,  1.00000000e+00],\n",
       "       [ 1.02737147e-01,  1.16920915e+00,  7.32788599e-01,\n",
       "         0.00000000e+00,  1.00000000e+00,  1.00000000e+00],\n",
       "       [ 6.02012518e-03,  5.18726249e-02,  7.62376684e-01,\n",
       "         0.00000000e+00,  0.00000000e+00,  1.00000000e+00],\n",
       "       [-1.36187177e-01, -5.62188208e-01,  7.74349716e-01,\n",
       "         0.00000000e+00,  0.00000000e+00,  1.00000000e+00],\n",
       "       [ 7.31281480e-02, -7.95446107e-01, -5.81938489e-01,\n",
       "         0.00000000e+00,  1.00000000e+00,  1.00000000e+00],\n",
       "       [-1.99298141e-01,  6.56512199e-01, -6.03515917e-01,\n",
       "         0.00000000e+00,  0.00000000e+00,  1.00000000e+00],\n",
       "       [ 3.53837501e-02,  8.21740976e-01, -6.35834687e-01,\n",
       "         0.00000000e+00,  0.00000000e+00,  1.00000000e+00],\n",
       "       [-3.55054466e-02,  2.35091603e-01,  1.17427197e+00,\n",
       "         0.00000000e+00,  1.00000000e+00,  1.00000000e+00],\n",
       "       [-1.68779170e-01,  2.21016356e+00, -7.67188629e-01,\n",
       "         0.00000000e+00,  0.00000000e+00,  1.00000000e+00],\n",
       "       [-1.78594993e-01,  1.14247983e+00, -8.58132855e-01,\n",
       "         0.00000000e+00,  1.00000000e+00,  1.00000000e+00],\n",
       "       [-2.58060822e-01, -2.05605599e-01, -9.90356358e-01,\n",
       "         0.00000000e+00,  0.00000000e+00,  1.00000000e+00],\n",
       "       [-2.76944684e-01,  1.13057697e+00, -1.01441864e+00,\n",
       "         0.00000000e+00,  1.00000000e+00,  1.00000000e+00],\n",
       "       [-2.26935128e-01,  2.83946873e-01, -1.36244897e+00,\n",
       "         0.00000000e+00,  0.00000000e+00,  1.00000000e+00],\n",
       "       [-4.01115378e-01, -6.59300973e-01,  2.98180513e-02,\n",
       "         0.00000000e+00,  0.00000000e+00,  1.00000000e+00],\n",
       "       [-6.00668575e-01,  1.31055831e+00, -1.87781008e-03,\n",
       "         0.00000000e+00,  0.00000000e+00,  1.00000000e+00],\n",
       "       [-6.09736394e-01, -1.30863447e+00, -4.54923508e-02,\n",
       "         0.00000000e+00,  1.00000000e+00,  1.00000000e+00],\n",
       "       [-9.91556606e-01,  2.05947751e-01, -8.17617655e-02,\n",
       "         0.00000000e+00,  0.00000000e+00,  1.00000000e+00],\n",
       "       [-6.52518763e-01, -2.52597096e+00, -1.15607448e-01,\n",
       "         0.00000000e+00,  0.00000000e+00,  1.00000000e+00],\n",
       "       [-1.17716400e+00, -1.99724731e+00, -2.12784058e-01,\n",
       "         0.00000000e+00,  1.00000000e+00,  1.00000000e+00],\n",
       "       [-7.73806812e-01, -1.38309850e+00, -2.97582468e-01,\n",
       "         0.00000000e+00,  0.00000000e+00,  1.00000000e+00],\n",
       "       [-9.89563468e-01, -1.00877158e-01, -3.15785075e-01,\n",
       "         0.00000000e+00,  0.00000000e+00,  1.00000000e+00],\n",
       "       [-1.00852017e+00, -1.32077275e+00, -3.84551599e-01,\n",
       "         0.00000000e+00,  0.00000000e+00,  1.00000000e+00],\n",
       "       [-1.10209201e+00, -9.06914474e-01, -5.20595152e-01,\n",
       "         0.00000000e+00,  0.00000000e+00,  1.00000000e+00],\n",
       "       [-1.28112009e+00,  2.17704585e-01, -1.44960388e+00,\n",
       "         0.00000000e+00,  1.00000000e+00,  1.00000000e+00],\n",
       "       [-1.13429185e+00,  1.20644242e+00, -1.50907337e+00,\n",
       "         0.00000000e+00,  0.00000000e+00,  1.00000000e+00],\n",
       "       [-1.60033681e+00,  1.01276996e-01, -1.72739917e+00,\n",
       "         0.00000000e+00,  1.00000000e+00,  1.00000000e+00],\n",
       "       [-1.59339967e+00, -1.99298681e-01,  7.11123282e-01,\n",
       "         0.00000000e+00,  0.00000000e+00,  1.00000000e+00],\n",
       "       [-1.62234847e+00,  5.07744936e-01, -1.74312617e+00,\n",
       "         0.00000000e+00,  0.00000000e+00,  1.00000000e+00],\n",
       "       [-1.61041980e+00, -2.50938578e+00, -1.74312617e+00,\n",
       "         0.00000000e+00,  1.00000000e+00,  1.00000000e+00],\n",
       "       [-1.62234847e+00, -1.57202446e-01, -1.36998392e+00,\n",
       "         0.00000000e+00,  0.00000000e+00,  1.00000000e+00]])"
      ]
     },
     "execution_count": 26,
     "metadata": {},
     "output_type": "execute_result"
    }
   ],
   "source": [
    "# Your code to print sample values in X\n",
    "X"
   ]
  },
  {
   "cell_type": "code",
   "execution_count": 27,
   "metadata": {
    "id": "wiCADV4Xk-40"
   },
   "outputs": [
    {
     "data": {
      "text/plain": [
       "array([[ 2.01121935],\n",
       "       [ 1.99944599],\n",
       "       [ 1.98085827],\n",
       "       [ 1.77664326],\n",
       "       [ 1.35775614],\n",
       "       [ 1.12726565],\n",
       "       [ 1.10549657],\n",
       "       [ 1.09622589],\n",
       "       [ 1.00748569],\n",
       "       [ 0.94603849],\n",
       "       [ 0.85486277],\n",
       "       [ 0.80818358],\n",
       "       [ 0.74117086],\n",
       "       [ 0.55876554],\n",
       "       [ 0.51604239],\n",
       "       [ 0.44873569],\n",
       "       [ 0.37545172],\n",
       "       [ 0.33478716],\n",
       "       [ 0.30713202],\n",
       "       [ 0.26978867],\n",
       "       [ 0.16195124],\n",
       "       [-0.01751782],\n",
       "       [-0.04159662],\n",
       "       [-0.08215341],\n",
       "       [-0.08671344],\n",
       "       [-0.11547707],\n",
       "       [-0.15735062],\n",
       "       [-0.17552631],\n",
       "       [-0.21878153],\n",
       "       [-0.2758662 ],\n",
       "       [-0.30260858],\n",
       "       [-0.36411142],\n",
       "       [-0.36550788],\n",
       "       [-0.38177109],\n",
       "       [-0.38342819],\n",
       "       [-0.3892749 ],\n",
       "       [-0.53391559],\n",
       "       [-0.55293888],\n",
       "       [-0.77148132],\n",
       "       [-0.77707766],\n",
       "       [-0.84639533],\n",
       "       [-0.85744966],\n",
       "       [-1.01534864],\n",
       "       [-1.05894419],\n",
       "       [-1.17319297],\n",
       "       [-1.18006622],\n",
       "       [-1.5669061 ],\n",
       "       [-1.74061116],\n",
       "       [-1.91319595],\n",
       "       [-2.43929721]])"
      ]
     },
     "execution_count": 27,
     "metadata": {},
     "output_type": "execute_result"
    }
   ],
   "source": [
    "# Your code to print the sample values in y\n",
    "y"
   ]
  },
  {
   "cell_type": "markdown",
   "metadata": {
    "id": "tTjU0Q-cxser"
   },
   "source": [
    "# Let's assign the X to a variable Independedent variable."
   ]
  },
  {
   "cell_type": "code",
   "execution_count": 28,
   "metadata": {
    "id": "YdWZQ-b5lDJa"
   },
   "outputs": [],
   "source": [
    "Indpendent_Variables = pd.DataFrame(X)\n"
   ]
  },
  {
   "cell_type": "markdown",
   "metadata": {
    "id": "6gMeaKTBx4-d"
   },
   "source": [
    "# Print Independent variable."
   ]
  },
  {
   "cell_type": "code",
   "execution_count": 29,
   "metadata": {
    "id": "g4ZT1IjrlNHC"
   },
   "outputs": [
    {
     "data": {
      "text/html": [
       "<div>\n",
       "<style scoped>\n",
       "    .dataframe tbody tr th:only-of-type {\n",
       "        vertical-align: middle;\n",
       "    }\n",
       "\n",
       "    .dataframe tbody tr th {\n",
       "        vertical-align: top;\n",
       "    }\n",
       "\n",
       "    .dataframe thead th {\n",
       "        text-align: right;\n",
       "    }\n",
       "</style>\n",
       "<table border=\"1\" class=\"dataframe\">\n",
       "  <thead>\n",
       "    <tr style=\"text-align: right;\">\n",
       "      <th></th>\n",
       "      <th>0</th>\n",
       "      <th>1</th>\n",
       "      <th>2</th>\n",
       "      <th>3</th>\n",
       "      <th>4</th>\n",
       "      <th>5</th>\n",
       "    </tr>\n",
       "  </thead>\n",
       "  <tbody>\n",
       "    <tr>\n",
       "      <th>0</th>\n",
       "      <td>2.016425</td>\n",
       "      <td>0.560776</td>\n",
       "      <td>2.153944</td>\n",
       "      <td>0.0</td>\n",
       "      <td>1.0</td>\n",
       "      <td>1.0</td>\n",
       "    </tr>\n",
       "    <tr>\n",
       "      <th>1</th>\n",
       "      <td>1.955874</td>\n",
       "      <td>1.082830</td>\n",
       "      <td>1.923601</td>\n",
       "      <td>0.0</td>\n",
       "      <td>0.0</td>\n",
       "      <td>1.0</td>\n",
       "    </tr>\n",
       "    <tr>\n",
       "      <th>2</th>\n",
       "      <td>1.754377</td>\n",
       "      <td>-0.728234</td>\n",
       "      <td>1.626528</td>\n",
       "      <td>0.0</td>\n",
       "      <td>0.0</td>\n",
       "      <td>1.0</td>\n",
       "    </tr>\n",
       "    <tr>\n",
       "      <th>3</th>\n",
       "      <td>1.554797</td>\n",
       "      <td>-0.096342</td>\n",
       "      <td>1.422211</td>\n",
       "      <td>0.0</td>\n",
       "      <td>1.0</td>\n",
       "      <td>1.0</td>\n",
       "    </tr>\n",
       "    <tr>\n",
       "      <th>4</th>\n",
       "      <td>1.504951</td>\n",
       "      <td>-1.079896</td>\n",
       "      <td>1.281529</td>\n",
       "      <td>0.0</td>\n",
       "      <td>0.0</td>\n",
       "      <td>1.0</td>\n",
       "    </tr>\n",
       "    <tr>\n",
       "      <th>5</th>\n",
       "      <td>1.279814</td>\n",
       "      <td>-0.776216</td>\n",
       "      <td>1.254211</td>\n",
       "      <td>0.0</td>\n",
       "      <td>1.0</td>\n",
       "      <td>1.0</td>\n",
       "    </tr>\n",
       "    <tr>\n",
       "      <th>6</th>\n",
       "      <td>1.340080</td>\n",
       "      <td>0.932170</td>\n",
       "      <td>-0.688149</td>\n",
       "      <td>0.0</td>\n",
       "      <td>0.0</td>\n",
       "      <td>1.0</td>\n",
       "    </tr>\n",
       "    <tr>\n",
       "      <th>7</th>\n",
       "      <td>1.245070</td>\n",
       "      <td>0.872003</td>\n",
       "      <td>0.932187</td>\n",
       "      <td>0.0</td>\n",
       "      <td>0.0</td>\n",
       "      <td>1.0</td>\n",
       "    </tr>\n",
       "    <tr>\n",
       "      <th>8</th>\n",
       "      <td>1.030382</td>\n",
       "      <td>0.986975</td>\n",
       "      <td>0.830888</td>\n",
       "      <td>0.0</td>\n",
       "      <td>1.0</td>\n",
       "      <td>1.0</td>\n",
       "    </tr>\n",
       "    <tr>\n",
       "      <th>9</th>\n",
       "      <td>1.091833</td>\n",
       "      <td>-0.456617</td>\n",
       "      <td>0.776108</td>\n",
       "      <td>0.0</td>\n",
       "      <td>0.0</td>\n",
       "      <td>1.0</td>\n",
       "    </tr>\n",
       "    <tr>\n",
       "      <th>10</th>\n",
       "      <td>0.620412</td>\n",
       "      <td>-0.387576</td>\n",
       "      <td>0.149808</td>\n",
       "      <td>0.0</td>\n",
       "      <td>0.0</td>\n",
       "      <td>1.0</td>\n",
       "    </tr>\n",
       "    <tr>\n",
       "      <th>11</th>\n",
       "      <td>0.593099</td>\n",
       "      <td>-1.065517</td>\n",
       "      <td>0.319834</td>\n",
       "      <td>0.0</td>\n",
       "      <td>0.0</td>\n",
       "      <td>1.0</td>\n",
       "    </tr>\n",
       "    <tr>\n",
       "      <th>12</th>\n",
       "      <td>0.443273</td>\n",
       "      <td>0.215472</td>\n",
       "      <td>0.320618</td>\n",
       "      <td>0.0</td>\n",
       "      <td>0.0</td>\n",
       "      <td>1.0</td>\n",
       "    </tr>\n",
       "    <tr>\n",
       "      <th>13</th>\n",
       "      <td>0.402091</td>\n",
       "      <td>0.510202</td>\n",
       "      <td>0.343958</td>\n",
       "      <td>0.0</td>\n",
       "      <td>0.0</td>\n",
       "      <td>1.0</td>\n",
       "    </tr>\n",
       "    <tr>\n",
       "      <th>14</th>\n",
       "      <td>1.017194</td>\n",
       "      <td>1.269222</td>\n",
       "      <td>0.375743</td>\n",
       "      <td>0.0</td>\n",
       "      <td>0.0</td>\n",
       "      <td>1.0</td>\n",
       "    </tr>\n",
       "    <tr>\n",
       "      <th>15</th>\n",
       "      <td>0.897927</td>\n",
       "      <td>0.045891</td>\n",
       "      <td>0.419220</td>\n",
       "      <td>0.0</td>\n",
       "      <td>1.0</td>\n",
       "      <td>1.0</td>\n",
       "    </tr>\n",
       "    <tr>\n",
       "      <th>16</th>\n",
       "      <td>0.094455</td>\n",
       "      <td>0.009141</td>\n",
       "      <td>0.440447</td>\n",
       "      <td>0.0</td>\n",
       "      <td>0.0</td>\n",
       "      <td>1.0</td>\n",
       "    </tr>\n",
       "    <tr>\n",
       "      <th>17</th>\n",
       "      <td>0.460734</td>\n",
       "      <td>0.855689</td>\n",
       "      <td>0.591018</td>\n",
       "      <td>0.0</td>\n",
       "      <td>1.0</td>\n",
       "      <td>1.0</td>\n",
       "    </tr>\n",
       "    <tr>\n",
       "      <th>18</th>\n",
       "      <td>0.396738</td>\n",
       "      <td>-0.258442</td>\n",
       "      <td>0.692993</td>\n",
       "      <td>0.0</td>\n",
       "      <td>0.0</td>\n",
       "      <td>1.0</td>\n",
       "    </tr>\n",
       "    <tr>\n",
       "      <th>19</th>\n",
       "      <td>0.279455</td>\n",
       "      <td>1.159860</td>\n",
       "      <td>-1.743126</td>\n",
       "      <td>0.0</td>\n",
       "      <td>1.0</td>\n",
       "      <td>1.0</td>\n",
       "    </tr>\n",
       "    <tr>\n",
       "      <th>20</th>\n",
       "      <td>0.055740</td>\n",
       "      <td>-0.269565</td>\n",
       "      <td>0.723927</td>\n",
       "      <td>0.0</td>\n",
       "      <td>0.0</td>\n",
       "      <td>1.0</td>\n",
       "    </tr>\n",
       "    <tr>\n",
       "      <th>21</th>\n",
       "      <td>0.102737</td>\n",
       "      <td>1.169209</td>\n",
       "      <td>0.732789</td>\n",
       "      <td>0.0</td>\n",
       "      <td>1.0</td>\n",
       "      <td>1.0</td>\n",
       "    </tr>\n",
       "    <tr>\n",
       "      <th>22</th>\n",
       "      <td>0.006020</td>\n",
       "      <td>0.051873</td>\n",
       "      <td>0.762377</td>\n",
       "      <td>0.0</td>\n",
       "      <td>0.0</td>\n",
       "      <td>1.0</td>\n",
       "    </tr>\n",
       "    <tr>\n",
       "      <th>23</th>\n",
       "      <td>-0.136187</td>\n",
       "      <td>-0.562188</td>\n",
       "      <td>0.774350</td>\n",
       "      <td>0.0</td>\n",
       "      <td>0.0</td>\n",
       "      <td>1.0</td>\n",
       "    </tr>\n",
       "    <tr>\n",
       "      <th>24</th>\n",
       "      <td>0.073128</td>\n",
       "      <td>-0.795446</td>\n",
       "      <td>-0.581938</td>\n",
       "      <td>0.0</td>\n",
       "      <td>1.0</td>\n",
       "      <td>1.0</td>\n",
       "    </tr>\n",
       "    <tr>\n",
       "      <th>25</th>\n",
       "      <td>-0.199298</td>\n",
       "      <td>0.656512</td>\n",
       "      <td>-0.603516</td>\n",
       "      <td>0.0</td>\n",
       "      <td>0.0</td>\n",
       "      <td>1.0</td>\n",
       "    </tr>\n",
       "    <tr>\n",
       "      <th>26</th>\n",
       "      <td>0.035384</td>\n",
       "      <td>0.821741</td>\n",
       "      <td>-0.635835</td>\n",
       "      <td>0.0</td>\n",
       "      <td>0.0</td>\n",
       "      <td>1.0</td>\n",
       "    </tr>\n",
       "    <tr>\n",
       "      <th>27</th>\n",
       "      <td>-0.035505</td>\n",
       "      <td>0.235092</td>\n",
       "      <td>1.174272</td>\n",
       "      <td>0.0</td>\n",
       "      <td>1.0</td>\n",
       "      <td>1.0</td>\n",
       "    </tr>\n",
       "    <tr>\n",
       "      <th>28</th>\n",
       "      <td>-0.168779</td>\n",
       "      <td>2.210164</td>\n",
       "      <td>-0.767189</td>\n",
       "      <td>0.0</td>\n",
       "      <td>0.0</td>\n",
       "      <td>1.0</td>\n",
       "    </tr>\n",
       "    <tr>\n",
       "      <th>29</th>\n",
       "      <td>-0.178595</td>\n",
       "      <td>1.142480</td>\n",
       "      <td>-0.858133</td>\n",
       "      <td>0.0</td>\n",
       "      <td>1.0</td>\n",
       "      <td>1.0</td>\n",
       "    </tr>\n",
       "    <tr>\n",
       "      <th>30</th>\n",
       "      <td>-0.258061</td>\n",
       "      <td>-0.205606</td>\n",
       "      <td>-0.990356</td>\n",
       "      <td>0.0</td>\n",
       "      <td>0.0</td>\n",
       "      <td>1.0</td>\n",
       "    </tr>\n",
       "    <tr>\n",
       "      <th>31</th>\n",
       "      <td>-0.276945</td>\n",
       "      <td>1.130577</td>\n",
       "      <td>-1.014419</td>\n",
       "      <td>0.0</td>\n",
       "      <td>1.0</td>\n",
       "      <td>1.0</td>\n",
       "    </tr>\n",
       "    <tr>\n",
       "      <th>32</th>\n",
       "      <td>-0.226935</td>\n",
       "      <td>0.283947</td>\n",
       "      <td>-1.362449</td>\n",
       "      <td>0.0</td>\n",
       "      <td>0.0</td>\n",
       "      <td>1.0</td>\n",
       "    </tr>\n",
       "    <tr>\n",
       "      <th>33</th>\n",
       "      <td>-0.401115</td>\n",
       "      <td>-0.659301</td>\n",
       "      <td>0.029818</td>\n",
       "      <td>0.0</td>\n",
       "      <td>0.0</td>\n",
       "      <td>1.0</td>\n",
       "    </tr>\n",
       "    <tr>\n",
       "      <th>34</th>\n",
       "      <td>-0.600669</td>\n",
       "      <td>1.310558</td>\n",
       "      <td>-0.001878</td>\n",
       "      <td>0.0</td>\n",
       "      <td>0.0</td>\n",
       "      <td>1.0</td>\n",
       "    </tr>\n",
       "    <tr>\n",
       "      <th>35</th>\n",
       "      <td>-0.609736</td>\n",
       "      <td>-1.308634</td>\n",
       "      <td>-0.045492</td>\n",
       "      <td>0.0</td>\n",
       "      <td>1.0</td>\n",
       "      <td>1.0</td>\n",
       "    </tr>\n",
       "    <tr>\n",
       "      <th>36</th>\n",
       "      <td>-0.991557</td>\n",
       "      <td>0.205948</td>\n",
       "      <td>-0.081762</td>\n",
       "      <td>0.0</td>\n",
       "      <td>0.0</td>\n",
       "      <td>1.0</td>\n",
       "    </tr>\n",
       "    <tr>\n",
       "      <th>37</th>\n",
       "      <td>-0.652519</td>\n",
       "      <td>-2.525971</td>\n",
       "      <td>-0.115607</td>\n",
       "      <td>0.0</td>\n",
       "      <td>0.0</td>\n",
       "      <td>1.0</td>\n",
       "    </tr>\n",
       "    <tr>\n",
       "      <th>38</th>\n",
       "      <td>-1.177164</td>\n",
       "      <td>-1.997247</td>\n",
       "      <td>-0.212784</td>\n",
       "      <td>0.0</td>\n",
       "      <td>1.0</td>\n",
       "      <td>1.0</td>\n",
       "    </tr>\n",
       "    <tr>\n",
       "      <th>39</th>\n",
       "      <td>-0.773807</td>\n",
       "      <td>-1.383099</td>\n",
       "      <td>-0.297582</td>\n",
       "      <td>0.0</td>\n",
       "      <td>0.0</td>\n",
       "      <td>1.0</td>\n",
       "    </tr>\n",
       "    <tr>\n",
       "      <th>40</th>\n",
       "      <td>-0.989563</td>\n",
       "      <td>-0.100877</td>\n",
       "      <td>-0.315785</td>\n",
       "      <td>0.0</td>\n",
       "      <td>0.0</td>\n",
       "      <td>1.0</td>\n",
       "    </tr>\n",
       "    <tr>\n",
       "      <th>41</th>\n",
       "      <td>-1.008520</td>\n",
       "      <td>-1.320773</td>\n",
       "      <td>-0.384552</td>\n",
       "      <td>0.0</td>\n",
       "      <td>0.0</td>\n",
       "      <td>1.0</td>\n",
       "    </tr>\n",
       "    <tr>\n",
       "      <th>42</th>\n",
       "      <td>-1.102092</td>\n",
       "      <td>-0.906914</td>\n",
       "      <td>-0.520595</td>\n",
       "      <td>0.0</td>\n",
       "      <td>0.0</td>\n",
       "      <td>1.0</td>\n",
       "    </tr>\n",
       "    <tr>\n",
       "      <th>43</th>\n",
       "      <td>-1.281120</td>\n",
       "      <td>0.217705</td>\n",
       "      <td>-1.449604</td>\n",
       "      <td>0.0</td>\n",
       "      <td>1.0</td>\n",
       "      <td>1.0</td>\n",
       "    </tr>\n",
       "    <tr>\n",
       "      <th>44</th>\n",
       "      <td>-1.134292</td>\n",
       "      <td>1.206442</td>\n",
       "      <td>-1.509073</td>\n",
       "      <td>0.0</td>\n",
       "      <td>0.0</td>\n",
       "      <td>1.0</td>\n",
       "    </tr>\n",
       "    <tr>\n",
       "      <th>45</th>\n",
       "      <td>-1.600337</td>\n",
       "      <td>0.101277</td>\n",
       "      <td>-1.727399</td>\n",
       "      <td>0.0</td>\n",
       "      <td>1.0</td>\n",
       "      <td>1.0</td>\n",
       "    </tr>\n",
       "    <tr>\n",
       "      <th>46</th>\n",
       "      <td>-1.593400</td>\n",
       "      <td>-0.199299</td>\n",
       "      <td>0.711123</td>\n",
       "      <td>0.0</td>\n",
       "      <td>0.0</td>\n",
       "      <td>1.0</td>\n",
       "    </tr>\n",
       "    <tr>\n",
       "      <th>47</th>\n",
       "      <td>-1.622348</td>\n",
       "      <td>0.507745</td>\n",
       "      <td>-1.743126</td>\n",
       "      <td>0.0</td>\n",
       "      <td>0.0</td>\n",
       "      <td>1.0</td>\n",
       "    </tr>\n",
       "    <tr>\n",
       "      <th>48</th>\n",
       "      <td>-1.610420</td>\n",
       "      <td>-2.509386</td>\n",
       "      <td>-1.743126</td>\n",
       "      <td>0.0</td>\n",
       "      <td>1.0</td>\n",
       "      <td>1.0</td>\n",
       "    </tr>\n",
       "    <tr>\n",
       "      <th>49</th>\n",
       "      <td>-1.622348</td>\n",
       "      <td>-0.157202</td>\n",
       "      <td>-1.369984</td>\n",
       "      <td>0.0</td>\n",
       "      <td>0.0</td>\n",
       "      <td>1.0</td>\n",
       "    </tr>\n",
       "  </tbody>\n",
       "</table>\n",
       "</div>"
      ],
      "text/plain": [
       "           0         1         2    3    4    5\n",
       "0   2.016425  0.560776  2.153944  0.0  1.0  1.0\n",
       "1   1.955874  1.082830  1.923601  0.0  0.0  1.0\n",
       "2   1.754377 -0.728234  1.626528  0.0  0.0  1.0\n",
       "3   1.554797 -0.096342  1.422211  0.0  1.0  1.0\n",
       "4   1.504951 -1.079896  1.281529  0.0  0.0  1.0\n",
       "5   1.279814 -0.776216  1.254211  0.0  1.0  1.0\n",
       "6   1.340080  0.932170 -0.688149  0.0  0.0  1.0\n",
       "7   1.245070  0.872003  0.932187  0.0  0.0  1.0\n",
       "8   1.030382  0.986975  0.830888  0.0  1.0  1.0\n",
       "9   1.091833 -0.456617  0.776108  0.0  0.0  1.0\n",
       "10  0.620412 -0.387576  0.149808  0.0  0.0  1.0\n",
       "11  0.593099 -1.065517  0.319834  0.0  0.0  1.0\n",
       "12  0.443273  0.215472  0.320618  0.0  0.0  1.0\n",
       "13  0.402091  0.510202  0.343958  0.0  0.0  1.0\n",
       "14  1.017194  1.269222  0.375743  0.0  0.0  1.0\n",
       "15  0.897927  0.045891  0.419220  0.0  1.0  1.0\n",
       "16  0.094455  0.009141  0.440447  0.0  0.0  1.0\n",
       "17  0.460734  0.855689  0.591018  0.0  1.0  1.0\n",
       "18  0.396738 -0.258442  0.692993  0.0  0.0  1.0\n",
       "19  0.279455  1.159860 -1.743126  0.0  1.0  1.0\n",
       "20  0.055740 -0.269565  0.723927  0.0  0.0  1.0\n",
       "21  0.102737  1.169209  0.732789  0.0  1.0  1.0\n",
       "22  0.006020  0.051873  0.762377  0.0  0.0  1.0\n",
       "23 -0.136187 -0.562188  0.774350  0.0  0.0  1.0\n",
       "24  0.073128 -0.795446 -0.581938  0.0  1.0  1.0\n",
       "25 -0.199298  0.656512 -0.603516  0.0  0.0  1.0\n",
       "26  0.035384  0.821741 -0.635835  0.0  0.0  1.0\n",
       "27 -0.035505  0.235092  1.174272  0.0  1.0  1.0\n",
       "28 -0.168779  2.210164 -0.767189  0.0  0.0  1.0\n",
       "29 -0.178595  1.142480 -0.858133  0.0  1.0  1.0\n",
       "30 -0.258061 -0.205606 -0.990356  0.0  0.0  1.0\n",
       "31 -0.276945  1.130577 -1.014419  0.0  1.0  1.0\n",
       "32 -0.226935  0.283947 -1.362449  0.0  0.0  1.0\n",
       "33 -0.401115 -0.659301  0.029818  0.0  0.0  1.0\n",
       "34 -0.600669  1.310558 -0.001878  0.0  0.0  1.0\n",
       "35 -0.609736 -1.308634 -0.045492  0.0  1.0  1.0\n",
       "36 -0.991557  0.205948 -0.081762  0.0  0.0  1.0\n",
       "37 -0.652519 -2.525971 -0.115607  0.0  0.0  1.0\n",
       "38 -1.177164 -1.997247 -0.212784  0.0  1.0  1.0\n",
       "39 -0.773807 -1.383099 -0.297582  0.0  0.0  1.0\n",
       "40 -0.989563 -0.100877 -0.315785  0.0  0.0  1.0\n",
       "41 -1.008520 -1.320773 -0.384552  0.0  0.0  1.0\n",
       "42 -1.102092 -0.906914 -0.520595  0.0  0.0  1.0\n",
       "43 -1.281120  0.217705 -1.449604  0.0  1.0  1.0\n",
       "44 -1.134292  1.206442 -1.509073  0.0  0.0  1.0\n",
       "45 -1.600337  0.101277 -1.727399  0.0  1.0  1.0\n",
       "46 -1.593400 -0.199299  0.711123  0.0  0.0  1.0\n",
       "47 -1.622348  0.507745 -1.743126  0.0  0.0  1.0\n",
       "48 -1.610420 -2.509386 -1.743126  0.0  1.0  1.0\n",
       "49 -1.622348 -0.157202 -1.369984  0.0  0.0  1.0"
      ]
     },
     "execution_count": 29,
     "metadata": {},
     "output_type": "execute_result"
    }
   ],
   "source": [
    "# Your code to print independent variable.\n",
    "Indpendent_Variables"
   ]
  },
  {
   "cell_type": "markdown",
   "metadata": {
    "id": "6id_qS-wx_PY"
   },
   "source": [
    "# Following function splits the data into two sets - trainset and testset.\n",
    "# We can also do the same operation using  train_test_split method available in sklearn.model_selection.\n",
    "# But, let's create our own method to split data.\n",
    "\n",
    "# In the following code, set radom_state as your SID.\n",
    "\n",
    "## Comment each line of the code about what its doing."
   ]
  },
  {
   "cell_type": "code",
   "execution_count": 31,
   "metadata": {
    "id": "JyUnKqYklPXO"
   },
   "outputs": [],
   "source": [
    "def split_data(X, y, test_size = 0.2, random_state = 42):  # Set variable random_state as your SID\n",
    "\n",
    "    np.random.seed(random_state)\n",
    "    indices = np.random.permutation(len(X))\n",
    "    data_test_size = int(X.shape[0] * test_size)\n",
    "\n",
    "    train_indices = indices[data_test_size:]\n",
    "    test_indices = indices[:data_test_size]\n",
    "    X_train = X[train_indices]\n",
    "    y_train = y[train_indices]\n",
    "    X_test = X[test_indices]\n",
    "    y_test = y[test_indices]\n",
    "    return(X_train, y_train, X_test, y_test)\n",
    "    # Your code to return X_train, y_train, X_test, y_test"
   ]
  },
  {
   "cell_type": "markdown",
   "metadata": {
    "id": "-SZXGbPozKhg"
   },
   "source": [
    "#Comment each line of the following code about what its doing."
   ]
  },
  {
   "cell_type": "code",
   "execution_count": 49,
   "metadata": {
    "id": "vIoOKmLMz7SG"
   },
   "outputs": [],
   "source": [
    "def forward(X, y, theta):\n",
    "\n",
    "    y_pred = np.sum(theta * X)\n",
    "    loss = ((y_pred-y)**2)/2    #This is also the cost function\n",
    "    return(loss,y_pred)\n",
    "    # Your code to return lost and predicted values.\n"
   ]
  },
  {
   "cell_type": "markdown",
   "metadata": {
    "id": "eJ2et9uJ3o4i"
   },
   "source": [
    "# Comment each line of the code about what its doing."
   ]
  },
  {
   "cell_type": "code",
   "execution_count": 33,
   "metadata": {
    "id": "hOrAJ454z8qk"
   },
   "outputs": [],
   "source": [
    "def updateTheta(X, y_pred, y_true, theta, alpha, index):\n",
    "\n",
    "    theta -= alpha *X[index]*(y_pred-y_true[index])\n",
    "    return(theta)\n",
    "    # Your code to return theta"
   ]
  },
  {
   "cell_type": "markdown",
   "metadata": {
    "id": "446lDTRr3vA8"
   },
   "source": [
    "## Comment each line of the code about what its doing."
   ]
  },
  {
   "cell_type": "code",
   "execution_count": 34,
   "metadata": {
    "id": "gGC0RCK00TPF"
   },
   "outputs": [],
   "source": [
    "def gradient_descent(X, y, epochs = 10, alpha = 0.001, random_state=0):\n",
    "\n",
    "    num_rows = X.shape[0]\n",
    "    num_cols = X.shape[1]\n",
    "\n",
    "    theta = np.random.randn(1,num_cols) / np.sqrt(num_rows)\n",
    "    train_loss = []\n",
    "    num_epochs = []\n",
    "    train_indices = [i for i in range(X.shape[0])]\n",
    "\n",
    "    for j in range(epochs):\n",
    "        cost=0\n",
    "        np.random.seed(random_state)\n",
    "        np.random.shuffle(train_indices)\n",
    "\n",
    "        for i in train_indices:\n",
    "            loss, y_pred = forward(X[i],y[i],theta)\n",
    "            cost+=loss\n",
    "            theta = updateTheta(X,y_pred,y,theta,alpha,i)\n",
    "\n",
    "        train_loss.append(cost)\n",
    "        num_epochs.append(j)\n",
    "\n",
    "    return theta, train_loss, num_epochs"
   ]
  },
  {
   "cell_type": "markdown",
   "metadata": {
    "id": "igWtd1Lo3-ep"
   },
   "source": [
    "## Comment each line of the code about what its doing."
   ]
  },
  {
   "cell_type": "code",
   "execution_count": 35,
   "metadata": {
    "id": "DrEpGXdN0Y2q"
   },
   "outputs": [],
   "source": [
    "def test(X_test, y_test, theta_updated):\n",
    "    # Initialize empty lists to store predictions and losses\n",
    "    test_pred = []\n",
    "    test_loss = []\n",
    "\n",
    "    # Create a list of indices for iterating through the test set\n",
    "    test_indices = [i for i in range(X_test.shape[0])]\n",
    "\n",
    "    # Loop through each test example\n",
    "    for i in test_indices:\n",
    "        # Call the forward function to get the loss and prediction\n",
    "        loss, y_test_pred = forward(X_test[i],  y_test[i], theta_updated)\n",
    "\n",
    "        # Append the prediction to the test_pred list\n",
    "        test_pred.append(y_test_pred)\n",
    "\n",
    "        # Append the loss to the test_loss list\n",
    "        test_loss.append(loss)\n",
    "\n",
    "    # Return the predictions and losses\n",
    "    return test_pred, test_loss\n",
    "\n",
    "    # Your code to return predictions and loss"
   ]
  },
  {
   "cell_type": "markdown",
   "metadata": {
    "id": "od4-qZRv4AAf"
   },
   "source": [
    "## Comment each line of the code about what its doing."
   ]
  },
  {
   "cell_type": "code",
   "execution_count": 37,
   "metadata": {
    "id": "ORSib6yN0dp5"
   },
   "outputs": [],
   "source": [
    "def predict(theta_updated, X_sample):\n",
    "\n",
    "    prediction = np.sum(theta_updated * X_sample)\n",
    "\n",
    "    return prediction"
   ]
  },
  {
   "cell_type": "markdown",
   "metadata": {
    "id": "hrL_oqSeIYO0"
   },
   "source": [
    "# Create a good plot Epochs vs loss."
   ]
  },
  {
   "cell_type": "code",
   "execution_count": 38,
   "metadata": {
    "id": "XiryfU2C184a"
   },
   "outputs": [],
   "source": [
    "def plotLoss(loss, epochs):\n",
    "    # Plot epochs vs loss\n",
    "    plt.plot(range(epochs), loss, marker='o')\n",
    "\n",
    "    # Add labels to the axes\n",
    "    plt.xlabel('Epochs')\n",
    "    plt.ylabel('Loss')\n",
    "\n",
    "    # Add a title to the plot\n",
    "    plt.title('Epochs vs Loss')\n",
    "\n",
    "    # Show the plot\n",
    "    plt.show()"
   ]
  },
  {
   "cell_type": "markdown",
   "metadata": {
    "id": "D-MpfkCR4IAb"
   },
   "source": [
    "# Calling the method  split_data to get train and test set.\n",
    "\n"
   ]
  },
  {
   "cell_type": "code",
   "execution_count": 39,
   "metadata": {
    "id": "EpxMECnipNSd"
   },
   "outputs": [],
   "source": [
    "X_train, y_train, X_test, y_test = split_data(X, y)"
   ]
  },
  {
   "cell_type": "markdown",
   "metadata": {
    "id": "mD-K1DXW4yjP"
   },
   "source": [
    "# Call the gradient descent function with the number of epochs and learning rate of your choice. Keep number of epochs greater that 200 and learning rate less than 0.05."
   ]
  },
  {
   "cell_type": "code",
   "execution_count": 40,
   "metadata": {
    "id": "L6_XGsxmqKEs"
   },
   "outputs": [],
   "source": [
    "num_epochs = 3  # You can adjust this number based on your needs\n",
    "learning_rate = 0.02  # You can adjust this rate based on your needs\n",
    "\n",
    "# Call gradient descent for training data\n",
    "theta_updated, train_loss, num_epochs = gradient_descent(X_train, y_train, num_epochs, learning_rate)"
   ]
  },
  {
   "cell_type": "markdown",
   "metadata": {
    "id": "bLEaYqXx5PEx"
   },
   "source": [
    "# Test your regression model using test data."
   ]
  },
  {
   "cell_type": "code",
   "execution_count": 41,
   "metadata": {
    "id": "WTg11ggFqM6A"
   },
   "outputs": [
    {
     "name": "stdout",
     "output_type": "stream",
     "text": [
      "Test Predictions: [0.3765805611704237, -0.6842435839595497, -0.4762930629574063, -1.6101470732656449, 0.5418249496113635, -1.6496245053273588, -0.15355737290274438, -0.3200409172486438, -0.547783287302574, -0.21429282329876106]\n",
      "Test Losses: [array([0.01659568]), array([0.00430908]), array([0.01508315]), array([0.09248477]), array([0.02143232]), array([0.03473495]), array([7.19435037e-06]), array([0.02092318]), array([0.01661216]), array([0.11716745])]\n"
     ]
    }
   ],
   "source": [
    "# Your code to test the model on test data and updated theta values.\n",
    "test_pred, test_loss = test(X_test, y_test, theta_updated)\n",
    "\n",
    "# Print or analyze the test predictions and losses as needed\n",
    "print(\"Test Predictions:\", test_pred)\n",
    "print(\"Test Losses:\", test_loss)"
   ]
  },
  {
   "cell_type": "markdown",
   "metadata": {
    "id": "yYpIBWt05ZdV"
   },
   "source": [
    "# Plot the loss function."
   ]
  },
  {
   "cell_type": "code",
   "execution_count": 46,
   "metadata": {
    "id": "Lq4Ld1cTqQCX"
   },
   "outputs": [
    {
     "data": {
      "image/png": "[encoded data removed]",
      "text/plain": [
       "<Figure size 640x480 with 1 Axes>"
      ]
     },
     "metadata": {},
     "output_type": "display_data"
    }
   ],
   "source": [
    "# Your code to plot epochs vs loss. Call the method.\n",
    "def plotLoss(loss, epochs):\n",
    "    # If epochs is a list, use its length as the total number of epochs\n",
    "    if isinstance(epochs, list):\n",
    "        total_epochs = len(epochs)\n",
    "    else:\n",
    "        total_epochs = int(epochs)\n",
    "    \n",
    "    # Plot epochs vs loss\n",
    "    plt.plot(range(total_epochs), loss, marker='o')\n",
    "\n",
    "    # Add labels to the axes\n",
    "    plt.xlabel('Epochs')\n",
    "    plt.ylabel('Loss')\n",
    "\n",
    "    # Add a title to the plot\n",
    "    plt.title('Epochs vs Loss')\n",
    "\n",
    "    # Show the plot\n",
    "    plt.show()\n",
    "plotLoss(train_loss, num_epochs)\n"
   ]
  },
  {
   "cell_type": "markdown",
   "metadata": {
    "id": "9eA7JcJ05i3t"
   },
   "source": [
    "Perform the predictions on X_tset. Call predict method."
   ]
  },
  {
   "cell_type": "code",
   "execution_count": 50,
   "metadata": {
    "id": "bwMj-gm05jqK"
   },
   "outputs": [
    {
     "name": "stdout",
     "output_type": "stream",
     "text": [
      "Test Predictions: [(array([[1.33602199e+00],\n",
      "       [1.31684610e+00],\n",
      "       [1.28685349e+00],\n",
      "       [9.80087785e-01],\n",
      "       [4.81352754e-01],\n",
      "       [2.81764050e-01],\n",
      "       [2.65659270e-01],\n",
      "       [2.58944699e-01],\n",
      "       [1.99020642e-01],\n",
      "       [1.62141164e-01],\n",
      "       [1.14376933e-01],\n",
      "       [9.31405834e-02],\n",
      "       [6.64630442e-02],\n",
      "       [1.65956829e-02],\n",
      "       [9.72480036e-03],\n",
      "       [2.60318144e-03],\n",
      "       [6.37146099e-07],\n",
      "       [8.73344397e-04],\n",
      "       [2.41155022e-03],\n",
      "       [5.70225418e-03],\n",
      "       [2.30328719e-02],\n",
      "       [7.76567672e-02],\n",
      "       [8.74360755e-02],\n",
      "       [1.05218428e-01],\n",
      "       [1.07320664e-01],\n",
      "       [1.21060355e-01],\n",
      "       [1.42541252e-01],\n",
      "       [1.52411001e-01],\n",
      "       [1.77228011e-01],\n",
      "       [2.12843387e-01],\n",
      "       [2.30648945e-01],\n",
      "       [2.74312307e-01],\n",
      "       [2.75347624e-01],\n",
      "       [2.87548616e-01],\n",
      "       [2.88806652e-01],\n",
      "       [2.93267293e-01],\n",
      "       [4.14501617e-01],\n",
      "       [4.32003195e-01],\n",
      "       [6.59023040e-01],\n",
      "       [6.65463644e-01],\n",
      "       [7.47835010e-01],\n",
      "       [7.61415297e-01],\n",
      "       [9.68733445e-01],\n",
      "       [1.03036566e+00],\n",
      "       [1.20089900e+00],\n",
      "       [1.21157460e+00],\n",
      "       [1.88857020e+00],\n",
      "       [2.24125039e+00],\n",
      "       [2.62153823e+00],\n",
      "       [3.96458381e+00]]), 0.3765805611704237), (array([[3.63276022],\n",
      "       [3.60109486],\n",
      "       [3.55138395],\n",
      "       [3.02798204],\n",
      "       [2.08488143],\n",
      "       [1.64078285],\n",
      "       [1.6015849 ],\n",
      "       [1.58503577],\n",
      "       [1.43097397],\n",
      "       [1.32890981],\n",
      "       [1.18442418],\n",
      "       [1.11366942],\n",
      "       [1.01590317],\n",
      "       [0.77253584],\n",
      "       [0.72034321],\n",
      "       [0.64182102],\n",
      "       [0.56147706],\n",
      "       [0.51921182],\n",
      "       [0.49141279],\n",
      "       [0.45508877],\n",
      "       [0.35802284],\n",
      "       [0.22226162],\n",
      "       [0.20649756],\n",
      "       [0.18125629],\n",
      "       [0.17852114],\n",
      "       [0.16174768],\n",
      "       [0.1388081 ],\n",
      "       [0.12939663],\n",
      "       [0.10832746],\n",
      "       [0.08338604],\n",
      "       [0.07282264],\n",
      "       [0.0512423 ],\n",
      "       [0.05079623],\n",
      "       [0.0457448 ],\n",
      "       [0.04524495],\n",
      "       [0.04350326],\n",
      "       [0.01129925],\n",
      "       [0.00862046],\n",
      "       [0.00380521],\n",
      "       [0.00430908],\n",
      "       [0.01314659],\n",
      "       [0.01500017],\n",
      "       [0.05481528],\n",
      "       [0.07020027],\n",
      "       [0.11953575],\n",
      "       [0.12292004],\n",
      "       [0.38954656],\n",
      "       [0.55795623],\n",
      "       [0.75516196],\n",
      "       [1.54010662]]), -0.6842435839595497), (array([[3.09385901e+00],\n",
      "       [3.06464193e+00],\n",
      "       [3.01879634e+00],\n",
      "       [2.53786105e+00],\n",
      "       [1.68186823e+00],\n",
      "       [1.28570027e+00],\n",
      "       [1.25102921e+00],\n",
      "       [1.23640793e+00],\n",
      "       [1.10079970e+00],\n",
      "       [1.01151352e+00],\n",
      "       [8.85987920e-01],\n",
      "       [8.24940125e-01],\n",
      "       [7.41109206e-01],\n",
      "       [5.35673154e-01],\n",
      "       [4.92364822e-01],\n",
      "       [4.27839099e-01],\n",
      "       [3.62734584e-01],\n",
      "       [3.28925560e-01],\n",
      "       [3.06877427e-01],\n",
      "       [2.78318975e-01],\n",
      "       [2.03677898e-01],\n",
      "       [1.05237362e-01],\n",
      "       [9.44805007e-02],\n",
      "       [7.76730332e-02],\n",
      "       [7.58861428e-02],\n",
      "       [6.50940916e-02],\n",
      "       [5.08621419e-02],\n",
      "       [4.52303186e-02],\n",
      "       [3.31560945e-02],\n",
      "       [2.00854642e-02],\n",
      "       [1.50831499e-02],\n",
      "       [6.29236029e-03],\n",
      "       [6.13667891e-03],\n",
      "       [4.46720140e-03],\n",
      "       [4.31194223e-03],\n",
      "       [3.78608039e-03],\n",
      "       [1.66017756e-03],\n",
      "       [2.93729055e-03],\n",
      "       [4.35680532e-02],\n",
      "       [4.52356864e-02],\n",
      "       [6.84878426e-02],\n",
      "       [7.26401767e-02],\n",
      "       [1.45290455e-01],\n",
      "       [1.69741171e-01],\n",
      "       [2.42834743e-01],\n",
      "       [2.47648329e-01],\n",
      "       [5.94718397e-01],\n",
      "       [7.99250124e-01],\n",
      "       [1.03234495e+00],\n",
      "       [1.92669264e+00]]), -0.4762930629574063), (array([[6.55714740e+00],\n",
      "       [6.51458104e+00],\n",
      "       [6.44765970e+00],\n",
      "       [5.73517439e+00],\n",
      "       [4.40422473e+00],\n",
      "       [3.74671420e+00],\n",
      "       [3.68736019e+00],\n",
      "       [3.66222731e+00],\n",
      "       [3.42600064e+00],\n",
      "       [3.26704231e+00],\n",
      "       [3.03813675e+00],\n",
      "       [2.92416158e+00],\n",
      "       [2.76434802e+00],\n",
      "       [2.35209096e+00],\n",
      "       [2.26034081e+00],\n",
      "       [2.11949912e+00],\n",
      "       [1.97130128e+00],\n",
      "       [1.89138458e+00],\n",
      "       [1.83797955e+00],\n",
      "       [1.76707920e+00],\n",
      "       [1.57016622e+00],\n",
      "       [1.26823397e+00],\n",
      "       [1.23017527e+00],\n",
      "       [1.16738232e+00],\n",
      "       [1.16042502e+00],\n",
      "       [1.11701921e+00],\n",
      "       [1.05530877e+00],\n",
      "       [1.02906836e+00],\n",
      "       [9.67949036e-01],\n",
      "       [8.90152727e-01],\n",
      "       [8.54828456e-01],\n",
      "       [7.76302422e-01],\n",
      "       [7.74563367e-01],\n",
      "       [7.54453774e-01],\n",
      "       [7.52419608e-01],\n",
      "       [7.45264432e-01],\n",
      "       [5.79137107e-01],\n",
      "       [5.58844583e-01],\n",
      "       [3.51680124e-01],\n",
      "       [3.47002325e-01],\n",
      "       [2.91658366e-01],\n",
      "       [2.83276696e-01],\n",
      "       [1.76892591e-01],\n",
      "       [1.51912307e-01],\n",
      "       [9.54644426e-02],\n",
      "       [9.24847699e-02],\n",
      "       [9.34890952e-04],\n",
      "       [8.51043881e-03],\n",
      "       [4.59193105e-02],\n",
      "       [3.43744975e-01]]), -1.6101470732656449), (array([[1.07955996e+00],\n",
      "       [1.06232955e+00],\n",
      "       [1.03540845e+00],\n",
      "       [7.62388134e-01],\n",
      "       [3.32871850e-01],\n",
      "       [1.71370406e-01],\n",
      "       [1.58862845e-01],\n",
      "       [1.53680201e-01],\n",
      "       [1.08419963e-01],\n",
      "       [8.16942917e-02],\n",
      "       [4.89963371e-02],\n",
      "       [3.54734603e-02],\n",
      "       [1.98693967e-02],\n",
      "       [1.43491765e-04],\n",
      "       [3.32370281e-04],\n",
      "       [4.33280496e-03],\n",
      "       [1.38400265e-02],\n",
      "       [2.14323242e-02],\n",
      "       [2.75403866e-02],\n",
      "       [3.70018692e-02],\n",
      "       [7.21520161e-02],\n",
      "       [1.56432167e-01],\n",
      "       [1.70190361e-01],\n",
      "       [1.94674496e-01],\n",
      "       [1.97530251e-01],\n",
      "       [2.16022970e-01],\n",
      "       [2.44423236e-01],\n",
      "       [2.57296418e-01],\n",
      "       [2.89261109e-01],\n",
      "       [3.34309406e-01],\n",
      "       [3.56533993e-01],\n",
      "       [4.10360355e-01],\n",
      "       [4.11626428e-01],\n",
      "       [4.26514825e-01],\n",
      "       [4.28046687e-01],\n",
      "       [4.33473464e-01],\n",
      "       [5.78608850e-01],\n",
      "       [5.99253920e-01],\n",
      "       [8.62386678e-01],\n",
      "       [8.69752045e-01],\n",
      "       [9.63577767e-01],\n",
      "       [9.78984720e-01],\n",
      "       [1.21239479e+00],\n",
      "       [1.28123093e+00],\n",
      "       [1.47064324e+00],\n",
      "       [1.48245460e+00],\n",
      "       [2.22337332e+00],\n",
      "       [2.60475729e+00],\n",
      "       [3.01356381e+00],\n",
      "       [4.44354467e+00]]), 0.5418249496113635), (array([[6.70088888e+00],\n",
      "       [6.65785774e+00],\n",
      "       [6.59020260e+00],\n",
      "       [5.86965541e+00],\n",
      "       [4.52216916e+00],\n",
      "       [3.85555946e+00],\n",
      "       [3.79534606e+00],\n",
      "       [3.76984720e+00],\n",
      "       [3.53011730e+00],\n",
      "       [3.36873318e+00],\n",
      "       [3.13622824e+00],\n",
      "       [3.02041029e+00],\n",
      "       [2.85795125e+00],\n",
      "       [2.43849329e+00],\n",
      "       [2.34505654e+00],\n",
      "       [2.20155776e+00],\n",
      "       [2.05046685e+00],\n",
      "       [1.96894482e+00],\n",
      "       [1.91444804e+00],\n",
      "       [1.84207347e+00],\n",
      "       [1.64090335e+00],\n",
      "       [1.33188612e+00],\n",
      "       [1.29287685e+00],\n",
      "       [1.22848282e+00],\n",
      "       [1.22134550e+00],\n",
      "       [1.17680418e+00],\n",
      "       [1.11344068e+00],\n",
      "       [1.08648274e+00],\n",
      "       [1.02365581e+00],\n",
      "       [9.43605944e-01],\n",
      "       [9.07225952e-01],\n",
      "       [8.26271944e-01],\n",
      "       [8.24477760e-01],\n",
      "       [8.03726138e-01],\n",
      "       [8.01626553e-01],\n",
      "       [7.94240565e-01],\n",
      "       [6.22403197e-01],\n",
      "       [6.01359682e-01],\n",
      "       [3.85567728e-01],\n",
      "       [3.80669000e-01],\n",
      "       [3.22588557e-01],\n",
      "       [3.13770491e-01],\n",
      "       [2.01152939e-01],\n",
      "       [1.74451615e-01],\n",
      "       [1.13493502e-01],\n",
      "       [1.10242491e-01],\n",
      "       [3.42116742e-03],\n",
      "       [4.13928556e-03],\n",
      "       [3.47349529e-02],\n",
      "       [3.11791490e-01]]), -1.6496245053273588), (array([[2.34312914e+00],\n",
      "       [2.31771174e+00],\n",
      "       [2.27786507e+00],\n",
      "       [1.86283725e+00],\n",
      "       [1.14203426e+00],\n",
      "       [8.20253806e-01],\n",
      "       [7.92608409e-01],\n",
      "       [7.80979101e-01],\n",
      "       [6.74010498e-01],\n",
      "       [6.04555527e-01],\n",
      "       [5.08455588e-01],\n",
      "       [4.62472831e-01],\n",
      "       [4.00269308e-01],\n",
      "       [2.53701965e-01],\n",
      "       [2.24181919e-01],\n",
      "       [1.81378468e-01],\n",
      "       [1.39925308e-01],\n",
      "       [1.19240189e-01],\n",
      "       [1.06117356e-01],\n",
      "       [8.96109353e-02],\n",
      "       [4.97728437e-02],\n",
      "       [9.25337993e-03],\n",
      "       [6.26760560e-03],\n",
      "       [2.54926299e-03],\n",
      "       [2.23405594e-03],\n",
      "       [7.25054862e-04],\n",
      "       [7.19435037e-06],\n",
      "       [2.41317191e-04],\n",
      "       [2.12709542e-03],\n",
      "       [7.47972431e-03],\n",
      "       [1.11081311e-02],\n",
      "       [2.21665038e-02],\n",
      "       [2.24615077e-02],\n",
      "       [2.60407510e-02],\n",
      "       [2.64202965e-02],\n",
      "       [2.77813762e-02],\n",
      "       [7.23361850e-02],\n",
      "       [7.97527937e-02],\n",
      "       [1.90915002e-01],\n",
      "       [1.94388773e-01],\n",
      "       [2.40012215e-01],\n",
      "       [2.47732178e-01],\n",
      "       [3.71342090e-01],\n",
      "       [4.09862648e-01],\n",
      "       [5.19828379e-01],\n",
      "       [5.26860207e-01],\n",
      "       [9.98777310e-01],\n",
      "       [1.25936986e+00],\n",
      "       [1.54816396e+00],\n",
      "       [2.61230330e+00]]), -0.15355737290274438), (array([[2.71738723e+00],\n",
      "       [2.69000975e+00],\n",
      "       [2.64706854e+00],\n",
      "       [2.19804228e+00],\n",
      "       [1.40750147e+00],\n",
      "       [1.04734815e+00],\n",
      "       [1.01607856e+00],\n",
      "       [1.00290583e+00],\n",
      "       [8.81163448e-01],\n",
      "       [8.01478528e-01],\n",
      "       [6.90199332e-01],\n",
      "       [6.36445259e-01],\n",
      "       [5.63085222e-01],\n",
      "       [3.86150393e-01],\n",
      "       [3.49517645e-01],\n",
      "       [2.95508737e-01],\n",
      "       [2.41855001e-01],\n",
      "       [2.14399902e-01],\n",
      "       [1.96672944e-01],\n",
      "       [1.73949470e-01],\n",
      "       [1.16158222e-01],\n",
      "       [4.57601121e-02],\n",
      "       [3.87656146e-02],\n",
      "       [2.82952331e-02],\n",
      "       [2.72208567e-02],\n",
      "       [2.09231845e-02],\n",
      "       [1.32340669e-02],\n",
      "       [1.04422352e-02],\n",
      "       [5.12673162e-03],\n",
      "       [9.75702924e-04],\n",
      "       [1.51943196e-04],\n",
      "       [9.71104690e-04],\n",
      "       [1.03362213e-03],\n",
      "       [1.90530730e-03],\n",
      "       [2.00897323e-03],\n",
      "       [2.39667214e-03],\n",
      "       [2.28711869e-02],\n",
      "       [2.71207303e-02],\n",
      "       [1.01899218e-01],\n",
      "       [1.04441291e-01],\n",
      "       [1.38524482e-01],\n",
      "       [1.44404080e-01],\n",
      "       [2.41726412e-01],\n",
      "       [2.72989027e-01],\n",
      "       [3.63934216e-01],\n",
      "       [3.69821761e-01],\n",
      "       [7.77336390e-01],\n",
      "       [1.00900991e+00],\n",
      "       [1.26907148e+00],\n",
      "       [2.24562362e+00]]), -0.3200409172486438), (array([[3.27424726e+00],\n",
      "       [3.24418849e+00],\n",
      "       [3.19701407e+00],\n",
      "       [2.70147940e+00],\n",
      "       [1.81554025e+00],\n",
      "       [1.40289447e+00],\n",
      "       [1.36666714e+00],\n",
      "       [1.35138309e+00],\n",
      "       [1.20943080e+00],\n",
      "       [1.11575175e+00],\n",
      "       [9.83707975e-01],\n",
      "       [9.19323074e-01],\n",
      "       [8.30701401e-01],\n",
      "       [6.12225151e-01],\n",
      "       [5.65862532e-01],\n",
      "       [4.96525038e-01],\n",
      "       [4.26181435e-01],\n",
      "       [3.89465293e-01],\n",
      "       [3.65440088e-01],\n",
      "       [3.34211951e-01],\n",
      "       [2.51861552e-01],\n",
      "       [1.40590733e-01],\n",
      "       [1.28112473e-01],\n",
      "       [1.08405592e-01],\n",
      "       [1.06292704e-01],\n",
      "       [9.34443342e-02],\n",
      "       [7.62188350e-02],\n",
      "       [6.92876270e-02],\n",
      "       [5.41210777e-02],\n",
      "       [3.69694518e-02],\n",
      "       [3.00553186e-02],\n",
      "       [1.68676771e-02],\n",
      "       [1.66121629e-02],\n",
      "       [1.37800243e-02],\n",
      "       [1.35062989e-02],\n",
      "       [1.25624545e-02],\n",
      "       [9.61565746e-05],\n",
      "       [1.32900624e-05],\n",
      "       [2.50204047e-02],\n",
      "       [2.62879543e-02],\n",
      "       [4.45845748e-02],\n",
      "       [4.79466320e-02],\n",
      "       [1.09308678e-01],\n",
      "       [1.30642736e-01],\n",
      "       [1.95568638e-01],\n",
      "       [1.99890854e-01],\n",
      "       [5.19305652e-01],\n",
      "       [7.11419166e-01],\n",
      "       [9.32175868e-01],\n",
      "       [1.78891246e+00]]), -0.547783287302574), (array([[2.47645223e+00],\n",
      "       [2.45031976e+00],\n",
      "       [2.40934417e+00],\n",
      "       [1.98191325e+00],\n",
      "       [1.23566896e+00],\n",
      "       [8.99889567e-01],\n",
      "       [8.70922015e-01],\n",
      "       [8.58729648e-01],\n",
      "       [7.46371369e-01],\n",
      "       [6.73184374e-01],\n",
      "       [5.71546836e-01],\n",
      "       [5.22728999e-01],\n",
      "       [4.56455428e-01],\n",
      "       [2.98809615e-01],\n",
      "       [2.66694759e-01],\n",
      "       [2.19803406e-01],\n",
      "       [1.73899311e-01],\n",
      "       [1.50744411e-01],\n",
      "       [1.35941931e-01],\n",
      "       [1.17167445e-01],\n",
      "       [7.07797991e-02],\n",
      "       [1.93602009e-02],\n",
      "       [1.49119901e-02],\n",
      "       [8.73041233e-03],\n",
      "       [8.13825000e-03],\n",
      "       [4.88227688e-03],\n",
      "       [1.62120743e-03],\n",
      "       [7.51421113e-04],\n",
      "       [1.00742499e-05],\n",
      "       [1.89564022e-03],\n",
      "       [3.89983642e-03],\n",
      "       [1.12228062e-02],\n",
      "       [1.14329960e-02],\n",
      "       [1.40244854e-02],\n",
      "       [1.43033863e-02],\n",
      "       [1.53093635e-02],\n",
      "       [5.10793551e-02],\n",
      "       [5.73405755e-02],\n",
      "       [1.55229510e-01],\n",
      "       [1.58363385e-01],\n",
      "       [1.99776787e-01],\n",
      "       [2.06825360e-01],\n",
      "       [3.20845207e-01],\n",
      "       [3.56717969e-01],\n",
      "       [4.59744749e-01],\n",
      "       [4.66359128e-01],\n",
      "       [9.14781336e-01],\n",
      "       [1.16482383e+00],\n",
      "       [1.44313592e+00],\n",
      "       [2.47532226e+00]]), -0.21429282329876106)]\n"
     ]
    }
   ],
   "source": [
    "# Your code to predict the profit i.e. y values\n",
    "def predict(X, theta):\n",
    "    predictions = []\n",
    "    for i in range(X.shape[0]):\n",
    "        y_pred = forward(X[i],y, theta)\n",
    "        predictions.append(y_pred)\n",
    "    return predictions\n",
    "test_predictions = predict(X_test, theta_updated)\n",
    "\n",
    "# Print or analyze the predictions as needed\n",
    "print(\"Test Predictions:\", test_predictions)"
   ]
  },
  {
   "cell_type": "markdown",
   "metadata": {
    "id": "8QX9qvbBJ5xI"
   },
   "source": [
    "# **Imortant - Lab Logbook requirement:**\n",
    "\n",
    "# Please document the following in your lab logbook:\n",
    "\n",
    "# 1. Plot the loss function.\n",
    "# 2. Record the output of all the predictions on the test data; i.e., all the predicted y values."
   ]
  },
  {
   "cell_type": "markdown",
   "metadata": {
    "id": "xFVI2Qkt6tJ4"
   },
   "source": [
    "# **Optional Part:**\n",
    "# The rest of this notebook is Optional. It is recommended for you to complete it. However, if you have not marks would not be deducted.\n",
    "\n",
    "# Fitting the model using sklearn and comparing with our model.\n",
    "\n",
    "# Following piece of code is uncommented. Please comment it."
   ]
  },
  {
   "cell_type": "code",
   "execution_count": null,
   "metadata": {
    "id": "FhXzFwONqUCV"
   },
   "outputs": [],
   "source": [
    "# Your code to import train_test_split from sklearn.model_selection\n",
    "# Your code to import LinearRegression from sklearn.linear_model\n",
    "\n",
    "from sklearn.preprocessing import LabelEncoder, OneHotEncoder"
   ]
  },
  {
   "cell_type": "code",
   "execution_count": null,
   "metadata": {
    "id": "S4JcuB2Lqby_"
   },
   "outputs": [],
   "source": [
    "dataset_sk = pd.read_csv('50_Startups.csv')\n",
    "X_sk = dataset_sk.iloc[:, :-1].values\n",
    "y_sk = dataset_sk.iloc[:, 4].values"
   ]
  },
  {
   "cell_type": "code",
   "execution_count": null,
   "metadata": {
    "id": "y3npV2v0qgKD"
   },
   "outputs": [],
   "source": [
    "labelencoder_X_sk = LabelEncoder()\n",
    "X_sk[:,3] = labelencoder_X_sk.fit_transform(X_sk[:,3])\n",
    "\n",
    "onehotencoder = OneHotEncoder(handle_unknown='ignore')\n",
    "X_sk_categorical = onehotencoder.fit_transform(X_sk[:,3].reshape(-1,1)).toarray()\n",
    "X_sk = np.concatenate((X_sk,X_sk_categorical),axis=1)"
   ]
  },
  {
   "cell_type": "code",
   "execution_count": null,
   "metadata": {
    "id": "8mwGdW42qn3D"
   },
   "outputs": [],
   "source": [
    "X_sk = X_sk[:, [0,1,2,5,6]]"
   ]
  },
  {
   "cell_type": "code",
   "execution_count": null,
   "metadata": {
    "id": "T1l5re-Qqp_o"
   },
   "outputs": [],
   "source": [
    "X_sk.shape\n"
   ]
  },
  {
   "cell_type": "code",
   "execution_count": null,
   "metadata": {
    "id": "sx5w-R0lqs2Y"
   },
   "outputs": [],
   "source": [
    "# Your code to perform train test split with 20% data in the test set."
   ]
  },
  {
   "cell_type": "code",
   "execution_count": null,
   "metadata": {
    "colab": {
     "base_uri": "https://localhost:8080/"
    },
    "id": "FtPNcs-9qvPo",
    "outputId": "95195c0f-0486-41f7-aa25-39457f73bd70"
   },
   "outputs": [
    {
     "data": {
      "text/plain": [
       "LinearRegression()"
      ]
     },
     "execution_count": 273,
     "metadata": {},
     "output_type": "execute_result"
    }
   ],
   "source": [
    "regressor_sk = LinearRegression()\n",
    "regressor_sk.fit(X_train_sk, y_train_sk)"
   ]
  },
  {
   "cell_type": "code",
   "execution_count": null,
   "metadata": {
    "id": "ZDTaghDbqyV4"
   },
   "outputs": [],
   "source": [
    "\n",
    "y_pred = regressor_sk.predict(X_test_sk)"
   ]
  },
  {
   "cell_type": "code",
   "execution_count": null,
   "metadata": {
    "id": "xQ6Xu0uOq0uf"
   },
   "outputs": [],
   "source": [
    "X_train_sk.shape\n"
   ]
  },
  {
   "cell_type": "code",
   "execution_count": null,
   "metadata": {
    "id": "CE6llxNiq30S"
   },
   "outputs": [],
   "source": [
    "#Making the Prediction using Sklearn Regression\n",
    "print(regressor_sk.predict([[160000,140000,5000000,1,0]]))"
   ]
  },
  {
   "cell_type": "code",
   "execution_count": null,
   "metadata": {
    "id": "90xW5Wcrq6fc"
   },
   "outputs": [],
   "source": [
    "#Making a Prediction\n",
    "pred = predict(theta_updated,[160000,140000,5000000,1,0,1])\n",
    "print(pred)"
   ]
  },
  {
   "cell_type": "code",
   "execution_count": null,
   "metadata": {
    "id": "cCcFXPhO9yYD"
   },
   "outputs": [],
   "source": []
  }
 ],
 "metadata": {
  "colab": {
   "provenance": []
  },
  "kernelspec": {
   "display_name": "Python 3 (ipykernel)",
   "language": "python",
   "name": "python3"
  },
  "language_info": {
   "codemirror_mode": {
    "name": "ipython",
    "version": 3
   },
   "file_extension": ".py",
   "mimetype": "text/x-python",
   "name": "python",
   "nbconvert_exporter": "python",
   "pygments_lexer": "ipython3",
   "version": "3.11.4"
  }
 },
 "nbformat": 4,
 "nbformat_minor": 1
}
